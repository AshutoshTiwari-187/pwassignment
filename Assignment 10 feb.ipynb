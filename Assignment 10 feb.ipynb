{
 "cells": [
  {
   "cell_type": "code",
   "execution_count": 1,
   "id": "c0f31f77",
   "metadata": {},
   "outputs": [],
   "source": [
    "#Question no-1\n",
    "#open() function is used to open a file.\n",
    "#r - open a file in read mode.\n",
    "#w - opens or create a text file in write mode.\n",
    "#a - opens a file in append mode.\n",
    "#r+ - opens a file in both read and write mode.\n",
    "#a+ - opens a file in both read and write mode.\n",
    "#w+ - opens a file in both read and write mode."
   ]
  },
  {
   "cell_type": "code",
   "execution_count": 3,
   "id": "a53dd1bb",
   "metadata": {},
   "outputs": [
    {
     "data": {
      "text/plain": [
       "'Because files are limited resources managed by the operating system,\\nmaking sure files are closed after use will protect against hard-to-debug issues like running out of file handles or experiencing corrupted data\\n. The best defense is always to open files with a context manager'"
      ]
     },
     "execution_count": 3,
     "metadata": {},
     "output_type": "execute_result"
    }
   ],
   "source": [
    "#Question no-2\n",
    "#The close() function shall deallocate the file descriptor indicated by fildes\n",
    "\"\"\"Because files are limited resources managed by the operating system,\n",
    "making sure files are closed after use will protect against hard-to-debug issues like running out of file handles or experiencing corrupted data\n",
    ". The best defense is always to open files with a context manager\"\"\""
   ]
  },
  {
   "cell_type": "code",
   "execution_count": 4,
   "id": "84e7ffca",
   "metadata": {},
   "outputs": [],
   "source": [
    "#Question no-3\n",
    "#File_object.read([n])"
   ]
  },
  {
   "cell_type": "code",
   "execution_count": 5,
   "id": "affd1c91",
   "metadata": {},
   "outputs": [],
   "source": [
    "#Question no-5\n",
    "#When you call the open() function using the with statement, the file closes automatically after you've processed the file. The with statement is a replacement for commonly used try/finally error-handling statements. A common example of using the with statement is opening a file"
   ]
  },
  {
   "cell_type": "code",
   "execution_count": null,
   "id": "89bc1680",
   "metadata": {},
   "outputs": [],
   "source": [
    "#Question no-6\n",
    "#The write() function displays the output but does not provide the newline character whereas the newlines() function displays the output and provides a new line character at the end of the string."
   ]
  }
 ],
 "metadata": {
  "kernelspec": {
   "display_name": "Python 3 (ipykernel)",
   "language": "python",
   "name": "python3"
  },
  "language_info": {
   "codemirror_mode": {
    "name": "ipython",
    "version": 3
   },
   "file_extension": ".py",
   "mimetype": "text/x-python",
   "name": "python",
   "nbconvert_exporter": "python",
   "pygments_lexer": "ipython3",
   "version": "3.11.1"
  }
 },
 "nbformat": 4,
 "nbformat_minor": 5
}
