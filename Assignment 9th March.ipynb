{
 "cells": [
  {
   "cell_type": "code",
   "execution_count": null,
   "id": "2912ae02",
   "metadata": {},
   "outputs": [],
   "source": [
    "#Q1: What are the Probability Mass Function (PMF) and Probability Density Function (PDF)? Explain with an example.\n",
    "1.Probability Mass Function (PMF):\n",
    "\n",
    "The PMF is applicable to discrete random variables. It gives the probability that a discrete random variable is exactly equal to a certain value.\n",
    "It is denoted as P(X = x), where X is the random variable and x is a specific value.\n",
    "The sum of probabilities over all possible values of the discrete random variable is equal to 1.\n",
    "\n",
    "2.Probability Density Function (PDF):\n",
    "\n",
    "The PDF is applicable to continuous random variables. Instead of giving the probability at a specific point, it gives the probability density over a range of values.\n",
    "It is denoted as f(x), and the probability of the random variable falling within a particular interval [a, b] is given by the integral of the PDF over that interval.\n",
    "The area under the entire PDF curve is equal to 1."
   ]
  },
  {
   "cell_type": "code",
   "execution_count": null,
   "id": "0e247c77",
   "metadata": {},
   "outputs": [],
   "source": [
    "#Q2: What is Cumulative Density Function (CDF)? Explain with an example. Why CDF is used?\n",
    "#The Cumulative Density Function (CDF) is a function associated with a probability distribution. It describes the probability that a random variable takes on a value less than or equal to a given point. In essence, it gives the cumulative probability up to a certain value.\n",
    "Let's take a simple example with a discrete random variable, like the roll of a fair six-sided die. The CDF for this die can be calculated as follows:\n",
    "P(X=x)= x/6\n",
    "F(x)= x/6  , for 1≤x≤6\n"
   ]
  },
  {
   "cell_type": "code",
   "execution_count": 1,
   "id": "37d28408",
   "metadata": {},
   "outputs": [
    {
     "ename": "SyntaxError",
     "evalue": "invalid syntax (1760583507.py, line 3)",
     "output_type": "error",
     "traceback": [
      "\u001b[1;36m  Cell \u001b[1;32mIn[1], line 3\u001b[1;36m\u001b[0m\n\u001b[1;33m    Examples of Situations where the Normal Distribution might be used as a Model:\u001b[0m\n\u001b[1;37m             ^\u001b[0m\n\u001b[1;31mSyntaxError\u001b[0m\u001b[1;31m:\u001b[0m invalid syntax\n"
     ]
    }
   ],
   "source": [
    "#Q3: What are some examples of situations where the normal distribution might be used as a model? Explain how the parameters of the normal distribution relate to the shape of the distribution.\n",
    "\n",
    "Examples of Situations where the Normal Distribution might be used as a Model:\n",
    "\n",
    "Height of a Population:\n",
    "\n",
    "The distribution of heights in a population often follows a normal distribution. The mean and standard deviation can describe the typical height and the variability around that mean.\n",
    "Test Scores:\n",
    "\n",
    "In educational testing, scores on well-designed exams often exhibit a normal distribution. The mean represents the average performance, and the standard deviation indicates the spread of scores.\n",
    "IQ Scores:\n",
    "\n",
    "Intelligence Quotient (IQ) scores are designed to follow a normal distribution. The mean is set at 100, and the standard deviation reflects the variability of intelligence in the population.\n"
   ]
  },
  {
   "cell_type": "code",
   "execution_count": null,
   "id": "8f7038d8",
   "metadata": {},
   "outputs": [],
   "source": [
    "#Q4: Explain the importance of Normal Distribution. Give a few real-life examples of Normal Distribution.\n",
    "\n",
    "The normal distribution is crucial in statistics and probability theory for its widespread applicability, aiding in statistical inference, prediction, and control, with real-life examples including IQ scores, heights, exam scores, blood pressure, and financial returns."
   ]
  },
  {
   "cell_type": "code",
   "execution_count": null,
   "id": "e23be182",
   "metadata": {},
   "outputs": [],
   "source": [
    "#Q5: What is Bernaulli Distribution? Give an Example. What is the difference between Bernoulli Distribution and Binomial Distribution?\n",
    "Bernoulli Distribution:\n",
    "The Bernoulli distribution is a discrete probability distribution that models a random experiment with two possible outcomes: success (usually denoted as 1) or failure (usually denoted as 0).\n",
    "Example:\n",
    "A coin flip can be modeled using a Bernoulli distribution, where getting a head might be considered a success (1) and getting a tail a failure (0)\n",
    "Difference between Bernoulli Distribution and Binomial Distribution:\n",
    "Bernoulli distribution is a special case of the binomial distribution when there is only one trial (n=1). The binomial distribution extends the concept to multiple independent trials with the same probability of success in each trial."
   ]
  },
  {
   "cell_type": "code",
   "execution_count": null,
   "id": "80534572",
   "metadata": {},
   "outputs": [],
   "source": [
    "#Q6. Consider a dataset with a mean of 50 and a standard deviation of 10. If we assume that the dataset  is normally distributed, what is the probability that a randomly selected observation will be greater than 60? Use the appropriate formula and show your calculations.\n",
    "\n",
    "The Z-score is calculated as:\n",
    "Z= X−μ/σ\n",
    "X is the value we're interested in (60 in this case),\n",
    "μ is the mean of the distribution,\n",
    "σ is the standard deviation of the distribution.\n",
    "So ,According to the given formula ,\n",
    "\n",
    "Z=60-50/10=1\n",
    "\n",
    "if the z score is equal to 1 so that the the probability by the z table is 0.8413\n",
    "\n",
    "P(x>60)=1-P(X>60)=1-0.8413=0.1587\n",
    "\n",
    "Therefore, there is approximately a 15.87% probability that a randomly selected observation will be greater than 60 in this normally distributed dataset with a mean of 50 and a standard deviation of 10."
   ]
  },
  {
   "cell_type": "code",
   "execution_count": null,
   "id": "0000c20e",
   "metadata": {},
   "outputs": [],
   "source": [
    "#Q7: Explain uniform Distribution with an example.\n",
    "\n",
    "The uniform distribution is a probability distribution in which all outcomes or values in a range are equally likely. In other words, every possible outcome has the same probability of occurring. The probability density function (PDF) for a continuous uniform distribution is constant over the entire range, and for a discrete uniform distribution, each outcome has an equal probability.\n",
    "\n",
    "Consider a scenario where a random variable X represents the time it takes for a computer program to run, and it is known that the program always runs between 5 and 10 seconds. The time is uniformly distributed between 5 and 10 seconds.\n",
    "\n",
    "The PDF for this continuous uniform distribution is given by:\n",
    " \n",
    "F(x)=1/10-5  = 1/5  for 5<=x<=10\n",
    "\n",
    "In this case, any value of  X between 5 and 10 seconds is equally likely. The height of the probability density function is such that the total area under the curve is 1.\n",
    "    "
   ]
  },
  {
   "cell_type": "code",
   "execution_count": null,
   "id": "94c015ca",
   "metadata": {},
   "outputs": [],
   "source": [
    "#Q8: What is the z score? State the importance of the z score.\n",
    "\n",
    "Z-Score:\n",
    "\n",
    "The Z-score, also known as the standard score or z-value, is a measure of how many standard deviations a particular data point or observation is from the mean of a dataset. It is a dimensionless quantity and is calculated using the formula:\n",
    "    \n",
    "    Z=X−μ/σ\n",
    " \n",
    "\n",
    "The Z-score is crucial for standardizing data, facilitating comparisons, identifying outliers, conducting probability calculations, and aiding in statistical testing and interpretation across various fields."
   ]
  },
  {
   "cell_type": "code",
   "execution_count": null,
   "id": "1c4d2c5d",
   "metadata": {},
   "outputs": [],
   "source": [
    "#Q9: What is Central Limit Theorem? State the significance of the Central Limit Theorem.\n",
    "The Central Limit Theorem is a fundamental concept in statistics that states that the distribution of the sum (or average) of a large number of independent, identically distributed random variables approaches a normal distribution, regardless of the original distribution of the variables. This holds true as long as the sample size is sufficiently large.\n",
    "Significance of the Central Limit Theorem-:\n",
    "    \n",
    "The Central Limit Theorem is crucial as it allows for the reliable approximation of sample means to a normal distribution, facilitating valid statistical inferences and enabling the application of numerous statistical methods across diverse data sets."
   ]
  },
  {
   "cell_type": "code",
   "execution_count": null,
   "id": "7b0717e8",
   "metadata": {},
   "outputs": [],
   "source": [
    "#Q10: State the assumptions of the Central Limit Theorem.\n",
    "\n",
    "The Central Limit Theorem assumes that the observations in the sample are independent and identically distributed, the sample size is sufficiently large, the population distribution is not heavily skewed, the population has a finite variance, and the samples are randomly selected."
   ]
  }
 ],
 "metadata": {
  "kernelspec": {
   "display_name": "Python 3 (ipykernel)",
   "language": "python",
   "name": "python3"
  },
  "language_info": {
   "codemirror_mode": {
    "name": "ipython",
    "version": 3
   },
   "file_extension": ".py",
   "mimetype": "text/x-python",
   "name": "python",
   "nbconvert_exporter": "python",
   "pygments_lexer": "ipython3",
   "version": "3.11.1"
  }
 },
 "nbformat": 4,
 "nbformat_minor": 5
}
