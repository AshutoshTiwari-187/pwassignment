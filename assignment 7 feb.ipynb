{
 "cells": [
  {
   "cell_type": "code",
   "execution_count": null,
   "id": "f64047cf",
   "metadata": {},
   "outputs": [],
   "source": [
    "#Question no-1"
   ]
  },
  {
   "cell_type": "code",
   "execution_count": 14,
   "id": "c48130e7",
   "metadata": {},
   "outputs": [],
   "source": [
    "def password_cheaking(password):\n",
    "    upper_len=0\n",
    "    lower_len=0\n",
    "    digit_len=0\n",
    "    special_len=0\n",
    "    special_characters=!@#$%^&*()_+\n",
    "    for i in password:\n",
    "        if i.isupper():\n",
    "            upper_len+=1\n",
    "        elif i.lower():\n",
    "            lower_len+=1\n",
    "        elif i.isdigit():\n",
    "            digit_len+=1\n",
    "        elif i in special_characters:\n",
    "            special_len+=1\n",
    "    if upper_len >= 2 and lower_len >= 2 and digit_len >= 1 and special_len >= 3 and len(password) == 10:\n",
    "         print(\"valid password\")\n",
    "    else:\n",
    "         print(\"inavalid password\")"
   ]
  },
  {
   "cell_type": "code",
   "execution_count": 21,
   "id": "2d2c2535",
   "metadata": {},
   "outputs": [
    {
     "name": "stdout",
     "output_type": "stream",
     "text": [
      "inavalid password\n"
     ]
    }
   ],
   "source": [
    "password_cheaking (\"ndenwfkn\")"
   ]
  },
  {
   "cell_type": "code",
   "execution_count": null,
   "id": "3e2b20a0",
   "metadata": {},
   "outputs": [],
   "source": [
    "#Question no-2"
   ]
  },
  {
   "cell_type": "code",
   "execution_count": 21,
   "id": "31c9d8af",
   "metadata": {},
   "outputs": [
    {
     "name": "stdout",
     "output_type": "stream",
     "text": [
      "Enter a name: ramu\n",
      "Enter another name: raju\n",
      "same starting index\n"
     ]
    }
   ],
   "source": [
    "a=input(\"Enter a name: \")\n",
    "m=input(\"Enter another name: \")\n",
    "b=list(filter(lambda x:x[0],a))\n",
    "c=list(filter(lambda x:x[0],m))\n",
    "if b[0]==c[0]:\n",
    "    print(\"same starting index\")\n",
    "else:\n",
    "    print(\"different starting index\")"
   ]
  },
  {
   "cell_type": "code",
   "execution_count": 34,
   "id": "68bd5930",
   "metadata": {},
   "outputs": [
    {
     "name": "stdout",
     "output_type": "stream",
     "text": [
      "is str\n",
      "is str\n"
     ]
    }
   ],
   "source": [
    "a_list=[\"raman\",56,\"market\"]\n",
    "s = [ print(\"is str\") for e in  a_list if type(e) == str ]"
   ]
  },
  {
   "cell_type": "code",
   "execution_count": 39,
   "id": "4bbf1ef7",
   "metadata": {},
   "outputs": [
    {
     "name": "stdout",
     "output_type": "stream",
     "text": [
      "Sorting by fruit names\n",
      "[('grapes', 1000), ('mango', 99), ('orange', 80)]\n",
      "Sorting by fruit Quantity\n",
      "[('orange', 80), ('mango', 99), ('grapes', 1000)]\n"
     ]
    }
   ],
   "source": [
    "m=[(\"mango\",99),(\"orange\",80), (\"grapes\", 1000)]\n",
    "print(\"Sorting by fruit names\")\n",
    "m.sort(key=lambda y:y[0])\n",
    "print(m)\n",
    "print(\"Sorting by fruit Quantity\")\n",
    "m.sort(key=lambda y:y[1])\n",
    "print(m)"
   ]
  },
  {
   "cell_type": "code",
   "execution_count": 42,
   "id": "0a1681c1",
   "metadata": {},
   "outputs": [
    {
     "name": "stdout",
     "output_type": "stream",
     "text": [
      "[1, 4, 9, 16, 25, 36, 49, 64, 81, 100]\n"
     ]
    }
   ],
   "source": [
    "a=[i**2 for i in range(1,11)]\n",
    "print(a)"
   ]
  },
  {
   "cell_type": "code",
   "execution_count": 46,
   "id": "9f98343e",
   "metadata": {},
   "outputs": [
    {
     "name": "stdout",
     "output_type": "stream",
     "text": [
      "[1.0, 1.2599210498948732, 1.4422495703074083, 1.5874010519681994, 1.7099759466766968, 1.8171205928321397, 1.912931182772389, 2.0, 2.080083823051904, 2.154434690031884]\n"
     ]
    }
   ],
   "source": [
    "a=[i ** (1/3) for i in range(1,11)]\n",
    "print(a)"
   ]
  },
  {
   "cell_type": "code",
   "execution_count": 72,
   "id": "caa10cdc",
   "metadata": {},
   "outputs": [
    {
     "name": "stdout",
     "output_type": "stream",
     "text": [
      "Enter a number >> 24\n",
      "Even Number\n"
     ]
    }
   ],
   "source": [
    "number = int(input(\"Enter a number >> \"))\n",
    "odd_even = lambda : \"Even Number\" if number % 2 == 0 else \"Odd Number\"\n",
    "\n",
    "print(odd_even())"
   ]
  },
  {
   "cell_type": "code",
   "execution_count": 73,
   "id": "e49de488",
   "metadata": {},
   "outputs": [
    {
     "data": {
      "text/plain": [
       "[1, 3, 5, 7, 9]"
      ]
     },
     "execution_count": 73,
     "metadata": {},
     "output_type": "execute_result"
    }
   ],
   "source": [
    "m=[1,2,3,4,5,6,7,8,9,10]\n",
    "list(filter(lambda x:x%2!=0,m))"
   ]
  },
  {
   "cell_type": "code",
   "execution_count": 78,
   "id": "bdddf4a6",
   "metadata": {},
   "outputs": [
    {
     "name": "stdout",
     "output_type": "stream",
     "text": [
      "(<function <lambda> at 0x0000024A9419FF60>, [1, 2, 3, 4, 5, 6, -1, -2, -3, -4, -5, 0])\n"
     ]
    }
   ],
   "source": [
    "m=[1,2,3,4,5,6,-1,-2,-3,-4,-5,0]\n",
    "p=lambda m:m.sort(),m\n",
    "print(p)"
   ]
  },
  {
   "cell_type": "code",
   "execution_count": 107,
   "id": "6485f301",
   "metadata": {},
   "outputs": [
    {
     "name": "stdout",
     "output_type": "stream",
     "text": [
      "[6, 5, 4, 3, 2, 1, 0, -1, -2, -3, -4, -5]\n"
     ]
    }
   ],
   "source": [
    "x=[1,2,3,4,5,6,-1,-2,-3,-4,-5,0]\n",
    "x.sort(reverse=True)\n",
    "print(x)"
   ]
  },
  {
   "cell_type": "code",
   "execution_count": null,
   "id": "9443d906",
   "metadata": {},
   "outputs": [],
   "source": []
  },
  {
   "cell_type": "code",
   "execution_count": null,
   "id": "89cce146",
   "metadata": {},
   "outputs": [],
   "source": []
  },
  {
   "cell_type": "code",
   "execution_count": null,
   "id": "b50baed2",
   "metadata": {},
   "outputs": [],
   "source": []
  }
 ],
 "metadata": {
  "kernelspec": {
   "display_name": "Python 3 (ipykernel)",
   "language": "python",
   "name": "python3"
  },
  "language_info": {
   "codemirror_mode": {
    "name": "ipython",
    "version": 3
   },
   "file_extension": ".py",
   "mimetype": "text/x-python",
   "name": "python",
   "nbconvert_exporter": "python",
   "pygments_lexer": "ipython3",
   "version": "3.11.1"
  }
 },
 "nbformat": 4,
 "nbformat_minor": 5
}
