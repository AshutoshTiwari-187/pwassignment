{
 "cells": [
  {
   "cell_type": "code",
   "execution_count": 1,
   "id": "4e17a80a",
   "metadata": {},
   "outputs": [],
   "source": [
    "#Q1. What is Flask Framework? What are the advantages of Flask Framework?\n",
    "#Flask is used for developing web applications using python, implemented on Werkzeug and Jinja2. \n",
    "#Advantages of using Flask framework are: There is a built-in development server and a fast debugger provided."
   ]
  },
  {
   "cell_type": "code",
   "execution_count": null,
   "id": "f3291fc7",
   "metadata": {},
   "outputs": [],
   "source": [
    "#Q2. Create a simple Flask application to display ‘Hello World!!’. Attach the screenshot of the output in Jupyter Notebook.\n",
    "\n",
    "from flask import Flask\n",
    "\n",
    "app = Flask(__name__)\n",
    "\n",
    "@app.route(\"/hello\")\n",
    "def hello_world():\n",
    "    return \"<h1>Hello, World!</h1>\"\n",
    "\n",
    "if __name__==\"__main__\":\n",
    "    app.run(host=\"0.0.0.0\")\n",
    "    "
   ]
  },
  {
   "cell_type": "code",
   "execution_count": 4,
   "id": "7741c933",
   "metadata": {},
   "outputs": [],
   "source": [
    "#Q3. What is App routing in Flask? Why do we use app routes?\n",
    "\n",
    "#App Routing means mapping the URLs to a specific function that will handle the logic for that URL.\n",
    "\n",
    "# Bcoz,It is helpful to access the desired page directly without navigating from the home page."
   ]
  },
  {
   "cell_type": "code",
   "execution_count": null,
   "id": "55f7f9bb",
   "metadata": {},
   "outputs": [],
   "source": [
    "#Q4. Create a “/welcome” route to display the welcome message “Welcome to ABC Corporation” and a “/” route to show the following details:\n",
    "#Company Name: ABC Corporation\n",
    "#Location: India\n",
    "#Contact Detail: 999-999-9999\n",
    "\n",
    "from flask import Flask\n",
    "\n",
    "app = Flask(__name__)\n",
    "\n",
    "@app.route(\"/welcome\")\n",
    "def hello_world():\n",
    "    return \"<h1>Welcome to ABC Corporation</h1>\" \"<h2>Company Name: ABC Corporation</h2>\"\"<h2>Location: India</h2>\"\"<h2>Contact Detail: 999-999-9999</h2>\"\n",
    "\n",
    "if __name__==\"__main__\":\n",
    "    app.run(host=\"0.0.0.0\")\n"
   ]
  },
  {
   "cell_type": "code",
   "execution_count": null,
   "id": "3d86918e",
   "metadata": {},
   "outputs": [],
   "source": [
    "#Q5. What function is used in Flask for URL Building? Write a Python code to demonstrate the working of the url_for() function.\n",
    "\n",
    "#The url_for() function is used to build a URL to the specific function dynamically. The first argument is the name of the specified function, and then we can pass any number of keywords as arguments corresponding to the variable part of the URL\n",
    "\n",
    "# import the Flask library\n",
    "from flask import Flask, render_template\n",
    "\n",
    "app = Flask(__name__)\n",
    "\n",
    "\n",
    "@app.route('/a')\n",
    "def welcome():\n",
    "\treturn render_template('sportsmain.html')\n",
    "\n",
    "if(__name__ == \"__main__\"):\n",
    "\tapp.run(debug=True)\n"
   ]
  }
 ],
 "metadata": {
  "kernelspec": {
   "display_name": "Python 3 (ipykernel)",
   "language": "python",
   "name": "python3"
  },
  "language_info": {
   "codemirror_mode": {
    "name": "ipython",
    "version": 3
   },
   "file_extension": ".py",
   "mimetype": "text/x-python",
   "name": "python",
   "nbconvert_exporter": "python",
   "pygments_lexer": "ipython3",
   "version": "3.11.1"
  }
 },
 "nbformat": 4,
 "nbformat_minor": 5
}
