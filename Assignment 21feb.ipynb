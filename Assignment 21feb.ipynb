{
 "cells": [
  {
   "cell_type": "code",
   "execution_count": 1,
   "id": "522fd9a6",
   "metadata": {},
   "outputs": [],
   "source": [
    "#Q1. What is Web Scraping? Why is it Used? Give three areas where Web Scraping is used to get data."
   ]
  },
  {
   "cell_type": "code",
   "execution_count": 2,
   "id": "72383ab7",
   "metadata": {},
   "outputs": [],
   "source": [
    "#Web scraping, also known as web harvesting or web data extraction, is a technique for extracting information from websites. It involves automated extraction of data from web pages, typically for the purpose of collecting large amounts of data from various websites for various uses, such as data analysis, research, or building applications.\n",
    "#"
   ]
  },
  {
   "cell_type": "code",
   "execution_count": 3,
   "id": "52fa18f2",
   "metadata": {},
   "outputs": [],
   "source": [
    "##Q2. What are the different methods used for Web Scraping?"
   ]
  },
  {
   "cell_type": "code",
   "execution_count": 4,
   "id": "f185b9e4",
   "metadata": {},
   "outputs": [],
   "source": [
    "#Web scraping methods include manual copy-paste, browser extensions, regular expressions, HTML parsing libraries , headless browsers , APIs, scraping frameworks , data extraction tools , proxy servers, cloud-based services, and crawlers or spiders for data extraction from websites.\""
   ]
  },
  {
   "cell_type": "code",
   "execution_count": null,
   "id": "37e4a57c",
   "metadata": {},
   "outputs": [],
   "source": [
    "#Q3. What is Beautiful Soup? Why is it used?"
   ]
  },
  {
   "cell_type": "code",
   "execution_count": 5,
   "id": "07112f13",
   "metadata": {},
   "outputs": [],
   "source": [
    "#Beautiful Soup is a Python library that is commonly used for web scraping and parsing HTML and XML documents. It provides a convenient way to navigate and search the contents of web pages, making it easier to extract specific data from them\n",
    "#Beautiful Soup is used for parsing and navigating HTML and XML documents, searching for specific elements and attributes, robust error handling, support for different parsers, and it serves as a popular open-source tool in the Python web scraping ecosystem."
   ]
  },
  {
   "cell_type": "code",
   "execution_count": 6,
   "id": "1cebd5df",
   "metadata": {},
   "outputs": [],
   "source": [
    "#Q4. Why is flask used in this Web Scraping project?"
   ]
  },
  {
   "cell_type": "code",
   "execution_count": 7,
   "id": "1a9f6b19",
   "metadata": {},
   "outputs": [],
   "source": [
    "#Flask is employed in web scraping projects for creating web interfaces, setting up API endpoints, managing asynchronous tasks, presenting scraped data, implementing user authentication, customizing functionality, integrating with Python libraries, and benefiting from its active community and documentation."
   ]
  },
  {
   "cell_type": "code",
   "execution_count": 8,
   "id": "74038899",
   "metadata": {},
   "outputs": [],
   "source": [
    "#Q5. Write the names of AWS services used in this project. Also, explain the use of each service."
   ]
  },
  {
   "cell_type": "code",
   "execution_count": null,
   "id": "4d7bce94",
   "metadata": {},
   "outputs": [],
   "source": [
    "#AWS services commonly used in web scraping projects include Amazon EC2, S3, RDS, Lambda, SQS, CloudWatch, VPC, IAM, API Gateway, and CloudFormation for tasks like hosting, data storage, serverless processing, queuing, monitoring, security, API management, and infrastructure provisioning\n",
    "#Commonly used AWS services in web scraping projects include Amazon EC2 for hosting, S3 for data storage, RDS for relational databases, Lambda for serverless processing, SQS for task queuing, CloudWatch for monitoring, VPC for network isolation, IAM for access control, API Gateway for API management, and CloudFormation for infrastructure provisioning."
   ]
  }
 ],
 "metadata": {
  "kernelspec": {
   "display_name": "Python 3 (ipykernel)",
   "language": "python",
   "name": "python3"
  },
  "language_info": {
   "codemirror_mode": {
    "name": "ipython",
    "version": 3
   },
   "file_extension": ".py",
   "mimetype": "text/x-python",
   "name": "python",
   "nbconvert_exporter": "python",
   "pygments_lexer": "ipython3",
   "version": "3.11.1"
  }
 },
 "nbformat": 4,
 "nbformat_minor": 5
}
