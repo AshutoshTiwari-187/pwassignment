{
 "cells": [
  {
   "cell_type": "code",
   "execution_count": null,
   "id": "cb1534c5-6bc2-442d-a440-efd9593da662",
   "metadata": {},
   "outputs": [],
   "source": [
    "#Q1.Explain with the example\n",
    "1.Arificial intelligence\n",
    "Artificial Intelligence (AI) is the simulation of human intelligence processes by machines, particularly computer systems. It involves machines learning from data, reasoning, and making decisions.\n",
    "\n",
    "Examples of AI include:\n",
    "Machine Learning: Computers learning from data to make predictions or decisions.\n",
    "Deep Learning: Using neural networks with many layers to learn representations of data.\n",
    "Natural Language Processing: Computers understanding and generating human language.\n",
    "Computer Vision: Computers interpreting visual information from images and videos.\n",
    "Robotics: Creating robots that can perform tasks autonomously or with minimal human intervention.\n",
    "These AI technologies are used in various applications, from spam email filters and image recognition to chatbots and autonomous vehicles.\n",
    "\n",
    "2.Machine learning\n",
    "Machine learning is a field of artificial intelligence where computers learn from data to make predictions or decisions without being explicitly\n",
    "programmed. It's used in various applications like spam filters, image recognition, recommendation systems, predictive maintenance, and medical \n",
    "diagnosis, among others. There are different types of machine learning, including supervised learning, unsupervised learning, and reinforcement \n",
    "learning.\n",
    "\n",
    "Example of Machine laerning is:\n",
    "Email Spam Detection: Machine learning algorithms can classify emails as spam or not spam based on their content and characteristics. This helps filter out unwanted emails from users' inboxes.\n",
    "\n",
    "3.Deep Learning:\n",
    "Deep learning is a subset of machine learning that uses neural networks with many layers (hence \"deep\") to learn representations of data. It is particularly effective for tasks such as image recognition, natural language processing, and speech recognition.\n",
    "\n",
    "Example: Image Recognition\n",
    "In image recognition, deep learning models, such as convolutional neural networks (CNNs), are trained on large datasets of labeled images."
   ]
  },
  {
   "cell_type": "code",
   "execution_count": null,
   "id": "dac58487-f753-4142-824f-999a3a1fcf83",
   "metadata": {},
   "outputs": [],
   "source": [
    "#Q2.What is Supervised Learning?List some Examples of Supervised Learning\n",
    "Supervised learning is a type of machine learning where the algorithm learns from labeled data, meaning each input data point is paired with the corresponding correct output. The algorithm learns to map input data to the desired output by minimizing the error between its predictions and the actual labels.\n",
    "Examples of Supervised Learning:\n",
    "1.Classification: Classifying data into predefined categories. Examples include:\n",
    "Email spam detection: Classifying emails as spam or non-spam.\n",
    "2.Regression: Predicting continuous values. Examples include:\n",
    "House price prediction: Predicting the price of a house based on features like size, location, and number of bedrooms."
   ]
  },
  {
   "cell_type": "code",
   "execution_count": null,
   "id": "31d596e5-3313-42b7-9550-e85779e7b71f",
   "metadata": {},
   "outputs": [],
   "source": [
    "#Q3.What is Unsupervised Learning?List some Examples of Unsupervised Learning\n",
    "Unsupervised learning is a type of machine learning where the algorithm learns patterns and structures from unlabeled data, meaning the training data does not have corresponding output labels. The algorithm aims to uncover hidden patterns or relationships in the data without explicit guidance.\n",
    "\n",
    "Examples of Unsupervised Learning:\n",
    "1.Clustering: Grouping similar data points together based on their characteristics. Examples include:\n",
    "Customer segmentation: Identifying groups of customers with similar purchasing behaviors for targeted marketing strategies.\n",
    "2.Dimensionality Reduction: Reducing the number of features or variables in the data while preserving its essential structure. Examples include:\n",
    "Principal Component Analysis (PCA): Transforming high-dimensional data into a lower-dimensional space while retaining as much variance as possible.                                                                                        "
   ]
  },
  {
   "cell_type": "code",
   "execution_count": null,
   "id": "0fbc700c-3751-4325-8cc2-8ec20025a366",
   "metadata": {},
   "outputs": [],
   "source": [
    "#Q4 What is the difference btw Al ,ML,Dl,DS\n",
    "Artificial Intelligence (AI):\n",
    "\n",
    "AI aims to create systems that can perform tasks requiring human intelligence.\n",
    "Machine Learning (ML):\n",
    "\n",
    "ML is a subset of AI where systems learn from data to make predictions or decisions.\n",
    "Deep Learning (DL):\n",
    "\n",
    "DL is a subset of ML using neural networks with many layers to learn representations of data.\n",
    "Data Science (DS):\n",
    "\n",
    "DS involves extracting insights and knowledge from data using various techniques."
   ]
  },
  {
   "cell_type": "code",
   "execution_count": null,
   "id": "ded6a022-c488-482d-973b-357dc6f70bb4",
   "metadata": {},
   "outputs": [],
   "source": [
    "#Q5 What is the main difference btw supervised unsupervised and semi- supervised?\n",
    "Supervised Learning:\n",
    "\n",
    "Learns from labeled data.\n",
    "Requires input-output pairs.\n",
    "Used for tasks like classification and regression.\n",
    "Unsupervised Learning:\n",
    "\n",
    "Learns from unlabeled data.\n",
    "No output labels provided.\n",
    "Used for tasks like clustering and dimensionality reduction.\n",
    "Semi-Supervised Learning:\n",
    "\n",
    "Combines labeled and unlabeled data.\n",
    "Uses a small amount of labeled data and a larger amount of unlabeled data.\n",
    "Helpful when labeled data is limited or costly to obtain."
   ]
  },
  {
   "cell_type": "code",
   "execution_count": null,
   "id": "8cadf4e9-926c-4ba4-9f3c-e7ebdeff481a",
   "metadata": {},
   "outputs": [],
   "source": [
    "#Q6 What is train, test and validation  split?Explain the importance of each term?\n",
    "Training Set: The training set is crucial for building a machine learning model. It provides the data necessary for the model to learn the underlying patterns and relationships, enabling it to make accurate predictions on new data.\n",
    "\n",
    "Test Set: The test set is essential for evaluating the model's performance and assessing its ability to generalize to unseen data. It helps identify any issues with model overfitting or underfitting and provides an unbiased estimate of the model's performance.\n",
    "\n",
    "Validation Set: The validation set is valuable for fine-tuning the model's hyperparameters and assessing its performance during training. It allows practitioners to iteratively improve the model's performance and make informed decisions about model selection and tuning."
   ]
  },
  {
   "cell_type": "code",
   "execution_count": null,
   "id": "5748ff0a-8c9f-4522-aad1-85683ac302f0",
   "metadata": {},
   "outputs": [],
   "source": [
    "#Q7 How can Unsupervised learning be used in anomaly detection?\n",
    "\n",
    "Unsupervised learning can be used for anomaly detection by:\n",
    "\n",
    "Clustering data and identifying outliers.\n",
    "Estimating data density and flagging points with low probability densities.\n",
    "Reducing dimensionality and identifying outliers in the reduced space.\n",
    "Training autoencoders to reconstruct data and flagging points with high reconstruction errors."
   ]
  },
  {
   "cell_type": "code",
   "execution_count": null,
   "id": "72751da1-97ed-4613-8dd1-05857e7787e8",
   "metadata": {},
   "outputs": [],
   "source": [
    "#Q8 List down some commonly used supervised learning algorithm and unsupervised learning algorithm?\n",
    "Here are some commonly used supervised and unsupervised learning algorithms:\n",
    "\n",
    "Supervised Learning Algorithms:\n",
    "\n",
    "Decision Trees\n",
    "Support Vector Machines (SVM)\n",
    "Neural Networks\n",
    "\n",
    "Unsupervised Learning Algorithms:\n",
    "\n",
    "K-means Clustering\n",
    "Principal Component Analysis (PCA)\n",
    "Gaussian Mixture Models (GMM)"
   ]
  }
 ],
 "metadata": {
  "kernelspec": {
   "display_name": "Python 3 (ipykernel)",
   "language": "python",
   "name": "python3"
  },
  "language_info": {
   "codemirror_mode": {
    "name": "ipython",
    "version": 3
   },
   "file_extension": ".py",
   "mimetype": "text/x-python",
   "name": "python",
   "nbconvert_exporter": "python",
   "pygments_lexer": "ipython3",
   "version": "3.12.1"
  }
 },
 "nbformat": 4,
 "nbformat_minor": 5
}
