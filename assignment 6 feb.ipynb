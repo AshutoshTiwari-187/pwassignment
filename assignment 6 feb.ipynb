{
 "cells": [
  {
   "cell_type": "code",
   "execution_count": 47,
   "id": "835fb89e",
   "metadata": {},
   "outputs": [],
   "source": []
  },
  {
   "cell_type": "code",
   "execution_count": 59,
   "id": "a817bc76",
   "metadata": {},
   "outputs": [
    {
     "name": "stdout",
     "output_type": "stream",
     "text": [
      "[1]\n",
      "1\n"
     ]
    }
   ],
   "source": [
    "list= [1,2,3,4, [44,55,66, True], False, (34,56,78,89,34), {1,2,3,3,2,1}, {1:34, \"key2\": [55, 67, 78, 89], 4: (45,\n",
    "22, 61, 34)}, [56, 'data science'], 'Machine Learning']\n",
    "from functools import reduce\n",
    "def mul_1(list_o):\n",
    "    l=[]\n",
    "    for data in list_o:\n",
    "        if type(data)==int:\n",
    "            l.append(data)\n",
    "        elif type(data)==list:\n",
    "            for data1 in data:\n",
    "                if type(data1)==int:\n",
    "                    l.append(data1)\n",
    "        elif type(data)==tuple:\n",
    "            for data2 in data:\n",
    "                if type(data2)==int:\n",
    "                    l.append(data2)\n",
    "        elif type(data)==dict:\n",
    "            for key,values in data:\n",
    "                if type(key)==int:\n",
    "                    l.append(key)\n",
    "                elif type(values)==int:\n",
    "                    l.append(values)\n",
    "                elif type(values)==tuple:\n",
    "                    for values_tuple in values:\n",
    "                        if type(values_tuple)==int:\n",
    "                            l.append(values_tuple)\n",
    "                elif type(values)==list:\n",
    "                    for values_list in values:\n",
    "                        if type(values_list)==int:\n",
    "                            l.append(values_tuple)\n",
    "                elif type(values)==set:\n",
    "                    for num in values:\n",
    "                        l.append(num)\n",
    "        \n",
    "        product = reduce(lambda x, y: x * y, l)\n",
    "        print(l)\n",
    "        return product\n",
    "print(mul_1(list))"
   ]
  },
  {
   "cell_type": "code",
   "execution_count": 61,
   "id": "dcf7eba1",
   "metadata": {},
   "outputs": [
    {
     "name": "stdout",
     "output_type": "stream",
     "text": [
      "Please enter your message ?i want to become a data scientiest\n",
      "t$nzro$oq$yuxqsu$z$vzoz$pxturotupo\n"
     ]
    }
   ],
   "source": [
    "user_input = input(\"Please enter your message ?\")\n",
    "dict_input = {\"a\": \"z\", \"b\": \"y\", \"c\": \"x\", \"d\": \"v\", \"e\": \"u\", \"i\": \"t\", \n",
    "              \"m\": \"s\", \"n\": \"r\", \"o\": \"q\", \"s\": \"p\", \"t\": \"o\", \"w\": \"n\"}\n",
    "\n",
    "rev_input = user_input.lower()\n",
    "encrypt_list = []\n",
    "for i in rev_input:\n",
    "    if i == \" \":\n",
    "        encrypt_list.append(\"$\")\n",
    "    elif i in dict_input:\n",
    "        encrypt_list.append(dict_input[i])\n",
    "encrypt_message= \"\".join(encrypt_list)\n",
    "print(encrypt_message)"
   ]
  },
  {
   "cell_type": "code",
   "execution_count": null,
   "id": "4669cc96",
   "metadata": {},
   "outputs": [],
   "source": []
  }
 ],
 "metadata": {
  "kernelspec": {
   "display_name": "Python 3 (ipykernel)",
   "language": "python",
   "name": "python3"
  },
  "language_info": {
   "codemirror_mode": {
    "name": "ipython",
    "version": 3
   },
   "file_extension": ".py",
   "mimetype": "text/x-python",
   "name": "python",
   "nbconvert_exporter": "python",
   "pygments_lexer": "ipython3",
   "version": "3.11.1"
  }
 },
 "nbformat": 4,
 "nbformat_minor": 5
}
