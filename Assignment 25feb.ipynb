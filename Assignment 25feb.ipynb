{
 "cells": [
  {
   "cell_type": "code",
   "execution_count": 1,
   "id": "18bdd89c",
   "metadata": {},
   "outputs": [],
   "source": [
    "import pandas as pd\n",
    "course_name = ['Data Science', 'Machine Learning', 'Big Data', 'Data Engineer']\n",
    "duration = [2,3,6,4]\n",
    "df = pd.DataFrame(data = {'course_name' : course_name, 'duration' : duration})"
   ]
  },
  {
   "cell_type": "code",
   "execution_count": 2,
   "id": "4092909c",
   "metadata": {},
   "outputs": [
    {
     "data": {
      "text/plain": [
       "0    2\n",
       "1    3\n",
       "2    6\n",
       "3    4\n",
       "Name: duration, dtype: int64"
      ]
     },
     "execution_count": 2,
     "metadata": {},
     "output_type": "execute_result"
    }
   ],
   "source": [
    "#Q1. Write a code to print the data present in the second row of the dataframe, df.\n",
    "df['duration']"
   ]
  },
  {
   "cell_type": "code",
   "execution_count": 3,
   "id": "806c0a3d",
   "metadata": {},
   "outputs": [],
   "source": [
    "#Q2. What is the difference between the functions loc and iloc in pandas.DataFrame?\n",
    "#The function . loc is typically used for label indexing and can access multiple columns, while . iloc is used for integer indexing"
   ]
  },
  {
   "cell_type": "code",
   "execution_count": 4,
   "id": "08f7bded",
   "metadata": {},
   "outputs": [],
   "source": [
    "#Q3. Reindex the given dataframe using a variable, reindex = [3,0,1,2] and store it in the variable, new_df  then find the output for both new_df.loc[2] and new_df.iloc[2]."
   ]
  },
  {
   "cell_type": "code",
   "execution_count": 5,
   "id": "0a1634be",
   "metadata": {},
   "outputs": [
    {
     "data": {
      "text/html": [
       "<div>\n",
       "<style scoped>\n",
       "    .dataframe tbody tr th:only-of-type {\n",
       "        vertical-align: middle;\n",
       "    }\n",
       "\n",
       "    .dataframe tbody tr th {\n",
       "        vertical-align: top;\n",
       "    }\n",
       "\n",
       "    .dataframe thead th {\n",
       "        text-align: right;\n",
       "    }\n",
       "</style>\n",
       "<table border=\"1\" class=\"dataframe\">\n",
       "  <thead>\n",
       "    <tr style=\"text-align: right;\">\n",
       "      <th></th>\n",
       "      <th>course_name</th>\n",
       "      <th>duration</th>\n",
       "    </tr>\n",
       "  </thead>\n",
       "  <tbody>\n",
       "    <tr>\n",
       "      <th>3</th>\n",
       "      <td>Data Engineer</td>\n",
       "      <td>4</td>\n",
       "    </tr>\n",
       "    <tr>\n",
       "      <th>0</th>\n",
       "      <td>Data Science</td>\n",
       "      <td>2</td>\n",
       "    </tr>\n",
       "    <tr>\n",
       "      <th>1</th>\n",
       "      <td>Machine Learning</td>\n",
       "      <td>3</td>\n",
       "    </tr>\n",
       "    <tr>\n",
       "      <th>2</th>\n",
       "      <td>Big Data</td>\n",
       "      <td>6</td>\n",
       "    </tr>\n",
       "  </tbody>\n",
       "</table>\n",
       "</div>"
      ],
      "text/plain": [
       "        course_name  duration\n",
       "3     Data Engineer         4\n",
       "0      Data Science         2\n",
       "1  Machine Learning         3\n",
       "2          Big Data         6"
      ]
     },
     "execution_count": 5,
     "metadata": {},
     "output_type": "execute_result"
    }
   ],
   "source": [
    "new_df=df.reindex([3,0,1,2])\n",
    "\n",
    "new_df"
   ]
  },
  {
   "cell_type": "code",
   "execution_count": 6,
   "id": "5a5bd93a",
   "metadata": {},
   "outputs": [
    {
     "data": {
      "text/plain": [
       "course_name    Big Data\n",
       "duration              6\n",
       "Name: 2, dtype: object"
      ]
     },
     "execution_count": 6,
     "metadata": {},
     "output_type": "execute_result"
    }
   ],
   "source": [
    "new_df.loc[2]"
   ]
  },
  {
   "cell_type": "code",
   "execution_count": 7,
   "id": "9eed8d40",
   "metadata": {},
   "outputs": [
    {
     "data": {
      "text/plain": [
       "course_name    Machine Learning\n",
       "duration                      3\n",
       "Name: 1, dtype: object"
      ]
     },
     "execution_count": 7,
     "metadata": {},
     "output_type": "execute_result"
    }
   ],
   "source": [
    "new_df.iloc[2]"
   ]
  },
  {
   "cell_type": "code",
   "execution_count": 8,
   "id": "bb865a1e",
   "metadata": {},
   "outputs": [],
   "source": [
    "import pandas as pd\n",
    "import numpy as np\n",
    "columns = ['column_1', 'column_2', 'column_3', 'column_4', 'column_5', 'column_6']\n",
    "indices = [1,2,3,4,5,6]\n",
    "#Creating a dataframe:\n",
    "df1 = pd.DataFrame(np.random.rand(6,6), columns = columns, index = indices)"
   ]
  },
  {
   "cell_type": "code",
   "execution_count": 9,
   "id": "ea852140",
   "metadata": {},
   "outputs": [
    {
     "data": {
      "text/html": [
       "<div>\n",
       "<style scoped>\n",
       "    .dataframe tbody tr th:only-of-type {\n",
       "        vertical-align: middle;\n",
       "    }\n",
       "\n",
       "    .dataframe tbody tr th {\n",
       "        vertical-align: top;\n",
       "    }\n",
       "\n",
       "    .dataframe thead th {\n",
       "        text-align: right;\n",
       "    }\n",
       "</style>\n",
       "<table border=\"1\" class=\"dataframe\">\n",
       "  <thead>\n",
       "    <tr style=\"text-align: right;\">\n",
       "      <th></th>\n",
       "      <th>column_1</th>\n",
       "      <th>column_2</th>\n",
       "      <th>column_3</th>\n",
       "      <th>column_4</th>\n",
       "      <th>column_5</th>\n",
       "      <th>column_6</th>\n",
       "    </tr>\n",
       "  </thead>\n",
       "  <tbody>\n",
       "    <tr>\n",
       "      <th>1</th>\n",
       "      <td>0.076418</td>\n",
       "      <td>0.246650</td>\n",
       "      <td>0.037071</td>\n",
       "      <td>0.837626</td>\n",
       "      <td>0.156684</td>\n",
       "      <td>0.284749</td>\n",
       "    </tr>\n",
       "    <tr>\n",
       "      <th>2</th>\n",
       "      <td>0.932931</td>\n",
       "      <td>0.964913</td>\n",
       "      <td>0.017802</td>\n",
       "      <td>0.661422</td>\n",
       "      <td>0.627587</td>\n",
       "      <td>0.828134</td>\n",
       "    </tr>\n",
       "    <tr>\n",
       "      <th>3</th>\n",
       "      <td>0.267569</td>\n",
       "      <td>0.410451</td>\n",
       "      <td>0.720307</td>\n",
       "      <td>0.231475</td>\n",
       "      <td>0.374241</td>\n",
       "      <td>0.888552</td>\n",
       "    </tr>\n",
       "    <tr>\n",
       "      <th>4</th>\n",
       "      <td>0.695993</td>\n",
       "      <td>0.636078</td>\n",
       "      <td>0.541610</td>\n",
       "      <td>0.898245</td>\n",
       "      <td>0.310094</td>\n",
       "      <td>0.957187</td>\n",
       "    </tr>\n",
       "    <tr>\n",
       "      <th>5</th>\n",
       "      <td>0.803013</td>\n",
       "      <td>0.224583</td>\n",
       "      <td>0.297866</td>\n",
       "      <td>0.059077</td>\n",
       "      <td>0.824795</td>\n",
       "      <td>0.709229</td>\n",
       "    </tr>\n",
       "    <tr>\n",
       "      <th>6</th>\n",
       "      <td>0.038842</td>\n",
       "      <td>0.587855</td>\n",
       "      <td>0.480728</td>\n",
       "      <td>0.606894</td>\n",
       "      <td>0.297158</td>\n",
       "      <td>0.575107</td>\n",
       "    </tr>\n",
       "  </tbody>\n",
       "</table>\n",
       "</div>"
      ],
      "text/plain": [
       "   column_1  column_2  column_3  column_4  column_5  column_6\n",
       "1  0.076418  0.246650  0.037071  0.837626  0.156684  0.284749\n",
       "2  0.932931  0.964913  0.017802  0.661422  0.627587  0.828134\n",
       "3  0.267569  0.410451  0.720307  0.231475  0.374241  0.888552\n",
       "4  0.695993  0.636078  0.541610  0.898245  0.310094  0.957187\n",
       "5  0.803013  0.224583  0.297866  0.059077  0.824795  0.709229\n",
       "6  0.038842  0.587855  0.480728  0.606894  0.297158  0.575107"
      ]
     },
     "execution_count": 9,
     "metadata": {},
     "output_type": "execute_result"
    }
   ],
   "source": [
    "df1"
   ]
  },
  {
   "cell_type": "code",
   "execution_count": 10,
   "id": "4e18bb36",
   "metadata": {},
   "outputs": [
    {
     "data": {
      "text/plain": [
       "column_1    0.469128\n",
       "column_2    0.511755\n",
       "column_3    0.349231\n",
       "column_4    0.549123\n",
       "column_5    0.431760\n",
       "column_6    0.707160\n",
       "dtype: float64"
      ]
     },
     "execution_count": 10,
     "metadata": {},
     "output_type": "execute_result"
    }
   ],
   "source": [
    "#(i) mean of each and every column present in the dataframe.\n",
    "df1[columns].mean()"
   ]
  },
  {
   "cell_type": "code",
   "execution_count": 11,
   "id": "56547a51",
   "metadata": {},
   "outputs": [
    {
     "data": {
      "text/plain": [
       "0.27914543762539196"
      ]
     },
     "execution_count": 11,
     "metadata": {},
     "output_type": "execute_result"
    }
   ],
   "source": [
    "#(ii) standard deviation of column, ‘column_2’\n",
    "df1['column_2'].std()"
   ]
  },
  {
   "cell_type": "code",
   "execution_count": 19,
   "id": "cfb6ee34",
   "metadata": {},
   "outputs": [
    {
     "data": {
      "text/html": [
       "<div>\n",
       "<style scoped>\n",
       "    .dataframe tbody tr th:only-of-type {\n",
       "        vertical-align: middle;\n",
       "    }\n",
       "\n",
       "    .dataframe tbody tr th {\n",
       "        vertical-align: top;\n",
       "    }\n",
       "\n",
       "    .dataframe thead th {\n",
       "        text-align: right;\n",
       "    }\n",
       "</style>\n",
       "<table border=\"1\" class=\"dataframe\">\n",
       "  <thead>\n",
       "    <tr style=\"text-align: right;\">\n",
       "      <th></th>\n",
       "      <th>column_1</th>\n",
       "      <th>column_2</th>\n",
       "      <th>column_3</th>\n",
       "      <th>column_4</th>\n",
       "      <th>column_5</th>\n",
       "      <th>column_6</th>\n",
       "    </tr>\n",
       "  </thead>\n",
       "  <tbody>\n",
       "    <tr>\n",
       "      <th>1</th>\n",
       "      <td>0.624822</td>\n",
       "      <td>0.248715</td>\n",
       "      <td>0.026150</td>\n",
       "      <td>0.048434</td>\n",
       "      <td>0.584023</td>\n",
       "      <td>0.782240</td>\n",
       "    </tr>\n",
       "    <tr>\n",
       "      <th>2</th>\n",
       "      <td>0.778922</td>\n",
       "      <td>your_string_variable</td>\n",
       "      <td>0.016915</td>\n",
       "      <td>0.821932</td>\n",
       "      <td>0.537530</td>\n",
       "      <td>0.956623</td>\n",
       "    </tr>\n",
       "    <tr>\n",
       "      <th>3</th>\n",
       "      <td>0.713931</td>\n",
       "      <td>0.000193</td>\n",
       "      <td>0.322541</td>\n",
       "      <td>0.259043</td>\n",
       "      <td>0.285841</td>\n",
       "      <td>0.793183</td>\n",
       "    </tr>\n",
       "    <tr>\n",
       "      <th>4</th>\n",
       "      <td>0.789102</td>\n",
       "      <td>0.029229</td>\n",
       "      <td>0.419114</td>\n",
       "      <td>0.218486</td>\n",
       "      <td>0.421242</td>\n",
       "      <td>0.110569</td>\n",
       "    </tr>\n",
       "    <tr>\n",
       "      <th>5</th>\n",
       "      <td>0.339693</td>\n",
       "      <td>0.006012</td>\n",
       "      <td>0.602970</td>\n",
       "      <td>0.288414</td>\n",
       "      <td>0.570674</td>\n",
       "      <td>0.460055</td>\n",
       "    </tr>\n",
       "    <tr>\n",
       "      <th>6</th>\n",
       "      <td>0.591484</td>\n",
       "      <td>0.919085</td>\n",
       "      <td>0.807757</td>\n",
       "      <td>0.722971</td>\n",
       "      <td>0.719895</td>\n",
       "      <td>0.475539</td>\n",
       "    </tr>\n",
       "  </tbody>\n",
       "</table>\n",
       "</div>"
      ],
      "text/plain": [
       "   column_1              column_2  column_3  column_4  column_5  column_6\n",
       "1  0.624822              0.248715  0.026150  0.048434  0.584023  0.782240\n",
       "2  0.778922  your_string_variable  0.016915  0.821932  0.537530  0.956623\n",
       "3  0.713931              0.000193  0.322541  0.259043  0.285841  0.793183\n",
       "4  0.789102              0.029229  0.419114  0.218486  0.421242  0.110569\n",
       "5  0.339693              0.006012  0.602970  0.288414  0.570674  0.460055\n",
       "6  0.591484              0.919085  0.807757  0.722971  0.719895  0.475539"
      ]
     },
     "execution_count": 19,
     "metadata": {},
     "output_type": "execute_result"
    }
   ],
   "source": [
    "#Q5. Replace the data present in the second row of column, ‘column_2’ by a string variable then find the mean of column, column_2.\n",
    "df1.at[2, 'column_2'] = 'your_string_variable'\n",
    "df1\n"
   ]
  },
  {
   "cell_type": "code",
   "execution_count": 20,
   "id": "1ae5817a",
   "metadata": {},
   "outputs": [],
   "source": [
    "#q6. what do you understand about the windows function in pandas and list the types of windows functions?\n",
    "#A window function executes a calculation across a related set of table rows to the current row. It is also called SQL analytic function. It uses values from one or different rows to return a value for each row. A distinct feature of a window function is the OVER clause."
   ]
  },
  {
   "cell_type": "code",
   "execution_count": 26,
   "id": "891085fc",
   "metadata": {},
   "outputs": [
    {
     "name": "stdout",
     "output_type": "stream",
     "text": [
      "Current Month: November\n",
      "Current Year: 2023\n"
     ]
    }
   ],
   "source": [
    "#Q7. Write a code to print only the current month and year at the time of answering this question.\n",
    "from datetime import datetime\n",
    " \n",
    "current_date = datetime.now()\n",
    " \n",
    "current_month = current_date.strftime('%B')  \n",
    "current_year = current_date.strftime('%Y')   \n",
    "\n",
    "print(f\"Current Month: {current_month}\")\n",
    "print(f\"Current Year: {current_year}\")\n"
   ]
  },
  {
   "cell_type": "code",
   "execution_count": 30,
   "id": "724c2e33",
   "metadata": {},
   "outputs": [
    {
     "name": "stdout",
     "output_type": "stream",
     "text": [
      "Enter the first date (YYYY-MM-DD): 2023-05-13\n",
      "Enter the second date (YYYY-MM-DD): 2023-05-30\n",
      "Time Difference:\n",
      "Days: 17 days\n",
      "Hours: 0 hours\n",
      "Minutes: 0 minutes\n"
     ]
    }
   ],
   "source": [
    "#Q8 Write a Python program that takes in two dates as input (in the format YYYY-MM-DD) and calculates the difference between them in days, hours, and minutes using Pandas time delta. The program should prompt the user to enter the dates and display the result.\n",
    "import pandas as pd\n",
    "\n",
    "date1_str = input(\"Enter the first date (YYYY-MM-DD): \")\n",
    "date2_str = input(\"Enter the second date (YYYY-MM-DD): \")\n",
    "\n",
    "date1 = pd.to_datetime(date1_str, format='%Y-%m-%d')\n",
    "date2 = pd.to_datetime(date2_str, format='%Y-%m-%d')\n",
    "\n",
    "time_difference = date2 - date1\n",
    "\n",
    "days = time_difference.days\n",
    "hours, remainder = divmod(time_difference.seconds, 3600)\n",
    "minutes = remainder // 60\n",
    "\n",
    "print(f\"Time Difference:\")\n",
    "print(f\"Days: {days} days\")\n",
    "print(f\"Hours: {hours} hours\")\n",
    "print(f\"Minutes: {minutes} minutes\")\n"
   ]
  },
  {
   "cell_type": "code",
   "execution_count": null,
   "id": "74717666",
   "metadata": {},
   "outputs": [],
   "source": []
  }
 ],
 "metadata": {
  "kernelspec": {
   "display_name": "Python 3 (ipykernel)",
   "language": "python",
   "name": "python3"
  },
  "language_info": {
   "codemirror_mode": {
    "name": "ipython",
    "version": 3
   },
   "file_extension": ".py",
   "mimetype": "text/x-python",
   "name": "python",
   "nbconvert_exporter": "python",
   "pygments_lexer": "ipython3",
   "version": "3.11.1"
  }
 },
 "nbformat": 4,
 "nbformat_minor": 5
}
