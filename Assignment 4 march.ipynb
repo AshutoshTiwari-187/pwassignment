{
 "cells": [
  {
   "cell_type": "code",
   "execution_count": null,
   "id": "660b345d",
   "metadata": {},
   "outputs": [],
   "source": [
    "#Q1. Load the \"titanic\" dataset using the load_dataset function of seaborn. Use Plotly express to plot a scatter plot for age and fare columns in the titanic dataset.\n",
    "import seaborn as sns\n",
    "import plotly.graph_objects as go\n",
    "sns.load_datasheet(\"titanic\")\n",
    "fig=Figure()\n",
    "fig.add_trace(go.scatter(x=titanic.age,y=titanic.fare,mode='markers'))\n",
    "fig.show()\n"
   ]
  },
  {
   "cell_type": "code",
   "execution_count": null,
   "id": "3e9a7b8b",
   "metadata": {},
   "outputs": [],
   "source": [
    "#Q2. Using the tips dataset in the Plotly library, plot a box plot using Plotly express.\n",
    "fig.add_trace(go.box(x=tips.total_bill,y=tips.tip))"
   ]
  },
  {
   "cell_type": "code",
   "execution_count": null,
   "id": "b8b4f26e",
   "metadata": {},
   "outputs": [],
   "source": [
    "#Q3. Using the tips dataset in the Plotly library, Plot a histogram for x= \"sex\" and y=\"total_bill\" column in the tips dataset. Also, use the \"smoker\" column with the pattern_shape parameter and the \"day\" column with the color parameter.\n",
    "fig = go.histogram(tips_data, x='sex', y='total_bill', color='day', pattern_shape='smoker')"
   ]
  },
  {
   "cell_type": "code",
   "execution_count": null,
   "id": "b69ad03b",
   "metadata": {},
   "outputs": [],
   "source": [
    "#Q4. Using the iris dataset in the Plotly library, Plot a scatter matrix plot, using the \"species\" column for the color parameter.\n",
    "fig = px.scatter_matrix(iris_data, dimensions=['sepal_length', 'sepal_width', 'petal_length', 'petal_width'],color='species')"
   ]
  },
  {
   "cell_type": "code",
   "execution_count": null,
   "id": "3264a095",
   "metadata": {},
   "outputs": [],
   "source": [
    "#Q5. What is Distplot? Using Plotly express, plot a distplot.\n",
    "A distplot (distribution plot) is a type of plot in Seaborn and Plotly Express that combines a histogram with a kernel density estimate. It provides a visual representation of the distribution of a univariate dataset, showing the frequency of different values and an estimation of the probability density function.\n"
   ]
  }
 ],
 "metadata": {
  "kernelspec": {
   "display_name": "Python 3 (ipykernel)",
   "language": "python",
   "name": "python3"
  },
  "language_info": {
   "codemirror_mode": {
    "name": "ipython",
    "version": 3
   },
   "file_extension": ".py",
   "mimetype": "text/x-python",
   "name": "python",
   "nbconvert_exporter": "python",
   "pygments_lexer": "ipython3",
   "version": "3.11.1"
  }
 },
 "nbformat": 4,
 "nbformat_minor": 5
}
