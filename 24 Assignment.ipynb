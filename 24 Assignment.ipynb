{
 "cells": [
  {
   "cell_type": "code",
   "execution_count": 1,
   "id": "4a80d636",
   "metadata": {},
   "outputs": [],
   "source": [
    "#Q1. List any five functions of the pandas library with execution."
   ]
  },
  {
   "cell_type": "code",
   "execution_count": null,
   "id": "428d2be7",
   "metadata": {},
   "outputs": [],
   "source": [
    "1.read_csv\n",
    "2.head\n",
    "3.groupby\n",
    "4.sort_values\n",
    "5.drop"
   ]
  },
  {
   "cell_type": "code",
   "execution_count": 2,
   "id": "5f42d870",
   "metadata": {},
   "outputs": [],
   "source": [
    "#Q2. Given a Pandas DataFrame df with columns 'A', 'B', and 'C', write a Python function to re-index the DataFrame with a new index that starts from 1 and increments by 2 for each row."
   ]
  },
  {
   "cell_type": "code",
   "execution_count": 4,
   "id": "3a851175",
   "metadata": {},
   "outputs": [
    {
     "name": "stdout",
     "output_type": "stream",
     "text": [
      "Original DataFrame:\n",
      "    A   B   C\n",
      "0  10  40  70\n",
      "1  20  50  80\n",
      "2  30  60  90\n",
      "\n",
      "Re-indexed DataFrame:\n",
      "    A   B   C\n",
      "1  10  40  70\n",
      "3  20  50  80\n",
      "5  30  60  90\n"
     ]
    }
   ],
   "source": [
    "import pandas as pd\n",
    "\n",
    "data = {'A': [10, 20, 30],\n",
    "        'B': [40, 50, 60],\n",
    "        'C': [70, 80, 90]}\n",
    "\n",
    "df = pd.DataFrame(data)\n",
    "\n",
    "print(\"Original DataFrame:\")\n",
    "print(df)\n",
    "def reindex_dataframe(df):\n",
    "    new_index = range(1, 2 * len(df) + 1, 2)\n",
    "    df.index = new_index\n",
    "    return df\n",
    "df = reindex_dataframe(df)\n",
    "print(\"\\nRe-indexed DataFrame:\")\n",
    "print(df)\n"
   ]
  },
  {
   "cell_type": "code",
   "execution_count": 5,
   "id": "4777abea",
   "metadata": {},
   "outputs": [],
   "source": [
    "#Q3. You have a Pandas DataFrame df with a column named 'Values'. Write a Python function that\n",
    "#iterates over the DataFrame and calculates the sum of the first three values in the 'Values' column. The\n",
    "#function should print the sum to the console."
   ]
  },
  {
   "cell_type": "code",
   "execution_count": 6,
   "id": "42b91694",
   "metadata": {},
   "outputs": [
    {
     "name": "stdout",
     "output_type": "stream",
     "text": [
      "Sum of the first three values in column 'A' si : 60\n"
     ]
    }
   ],
   "source": [
    "import pandas as pd\n",
    "\n",
    "data = {'A': [10, 20, 30, 40, 50]}\n",
    "df = pd.DataFrame(data)\n",
    "\n",
    "sum_of_first_three = df['A'][:3].sum()\n",
    "\n",
    "print(\"Sum of the first three values in column 'A' si :\", sum_of_first_three)\n"
   ]
  },
  {
   "cell_type": "code",
   "execution_count": 7,
   "id": "269cdea0",
   "metadata": {},
   "outputs": [],
   "source": [
    "#Q4. Given a Pandas DataFrame df with a column 'Text', write a Python function to create a new column\n",
    "#'Word_Count' that contains the number of words in each row of the 'Text' column."
   ]
  },
  {
   "cell_type": "code",
   "execution_count": 8,
   "id": "02169cf2",
   "metadata": {},
   "outputs": [
    {
     "name": "stdout",
     "output_type": "stream",
     "text": [
      "                           Text  Word_Count\n",
      "0     This is a sample sentence           5\n",
      "1  Pandas is a powerful library           5\n",
      "2          Data analysis is fun           4\n"
     ]
    }
   ],
   "source": [
    "import pandas as pd\n",
    "\n",
    "data = {'Text': [\"This is a sample sentence\",\n",
    "                 \"Pandas is a powerful library\",\n",
    "                 \"Data analysis is fun\"]}\n",
    "df = pd.DataFrame(data)\n",
    "\n",
    "def count_words(text):\n",
    "    words = text.split()\n",
    "    return len(words)\n",
    "\n",
    "df['Word_Count'] = df['Text'].apply(count_words)\n",
    "\n",
    "print(df)"
   ]
  },
  {
   "cell_type": "code",
   "execution_count": 9,
   "id": "b51c76c1",
   "metadata": {},
   "outputs": [],
   "source": [
    "#Q5. How are DataFrame.size() and DataFrame.shape() different?"
   ]
  },
  {
   "cell_type": "code",
   "execution_count": 10,
   "id": "ca8484f3",
   "metadata": {},
   "outputs": [],
   "source": [
    "#Data frame give the exact sixe of the data its count all of the indivusual cell of the frame .From the all columns and rows."
   ]
  },
  {
   "cell_type": "code",
   "execution_count": 11,
   "id": "34ced66c",
   "metadata": {},
   "outputs": [],
   "source": [
    "#It gives us the number of rows and columns in the data by which we clarifies the shape of the data frame."
   ]
  },
  {
   "cell_type": "code",
   "execution_count": 12,
   "id": "5a3e1576",
   "metadata": {},
   "outputs": [],
   "source": [
    "#Q6. Which function of pandas do we use to read an excel file?\n"
   ]
  },
  {
   "cell_type": "code",
   "execution_count": 13,
   "id": "7122547a",
   "metadata": {},
   "outputs": [],
   "source": [
    "#pd.read_excel()"
   ]
  },
  {
   "cell_type": "code",
   "execution_count": 14,
   "id": "f5b312ff",
   "metadata": {},
   "outputs": [],
   "source": [
    "#Q7. You have a Pandas DataFrame df that contains a column named 'Email' that contains email\n",
    "#addresses in the format 'username@domain.com'. Write a Python function that creates a new column\n",
    "#'Username' in df that contains only the username part of each email address."
   ]
  },
  {
   "cell_type": "code",
   "execution_count": 15,
   "id": "6da0abac",
   "metadata": {},
   "outputs": [
    {
     "name": "stdout",
     "output_type": "stream",
     "text": [
      "               Email Username\n",
      "0  user1@example.com    user1\n",
      "1  user2@example.org    user2\n",
      "2  user3@example.net    user3\n"
     ]
    }
   ],
   "source": [
    "import pandas as pd\n",
    "\n",
    "data = {'Email': ['user1@example.com', 'user2@example.org', 'user3@example.net']}\n",
    "df = pd.DataFrame(data)\n",
    "\n",
    "def extract_username(email):\n",
    "    username = email.split('@')[0]\n",
    "    return username\n",
    "\n",
    "df['Username'] = df['Email'].apply(extract_username)\n",
    "\n",
    "print(df)\n"
   ]
  },
  {
   "cell_type": "code",
   "execution_count": 16,
   "id": "ec71fa18",
   "metadata": {},
   "outputs": [],
   "source": [
    "#Q8. You have a Pandas DataFrame df with columns 'A', 'B', and 'C'. Write a Python function that selects all rows where the value in column 'A' is greater than 5 and the value in column 'B' is less than 10. The\n",
    "#function should return a new DataFrame that contains only the selected rows."
   ]
  },
  {
   "cell_type": "code",
   "execution_count": 20,
   "id": "48f0afb5",
   "metadata": {},
   "outputs": [
    {
     "name": "stdout",
     "output_type": "stream",
     "text": [
      "   A  B  C\n",
      "1  8  2  7\n",
      "2  6  9  4\n",
      "4  9  1  2\n",
      "5  8  2  7\n",
      "6  9  1  2\n"
     ]
    }
   ],
   "source": [
    "import pandas as pd\n",
    "\n",
    "data={'A':[3,8,6,2,9,8,9] , 'B':[5,2,9,3,1,2,1],'C':[1,7,4,5,2,7,2]}\n",
    "df=pd.DataFrame(data)\n",
    "selected_rows = df[(df['A'] > 5) & (df['B'] < 10)]\n",
    "print(selected_rows)\n"
   ]
  },
  {
   "cell_type": "code",
   "execution_count": 18,
   "id": "6d7fc54c",
   "metadata": {},
   "outputs": [],
   "source": [
    "#Q9. Given a Pandas DataFrame df with a column 'Values', write a Python function to calculate the mean, median, and standard deviation of the values in the 'Values' column."
   ]
  },
  {
   "cell_type": "code",
   "execution_count": 21,
   "id": "07f4e794",
   "metadata": {},
   "outputs": [
    {
     "name": "stdout",
     "output_type": "stream",
     "text": [
      "Mean: 30.0\n",
      "Median: 30.0\n",
      "Standard Deviation: 15.811388300841896\n"
     ]
    }
   ],
   "source": [
    "import pandas as pd\n",
    "\n",
    "def calculate_statistics(df):\n",
    "    if 'Values' not in df.columns:\n",
    "        return \"Error: 'Values' column not found in the DataFrame.\"\n",
    "\n",
    "    values_column = df['Values']\n",
    "\n",
    "    mean = values_column.mean()\n",
    "    median = values_column.median()\n",
    "    std_deviation = values_column.std()\n",
    "    \n",
    "    return mean, median, std_deviation\n",
    "\n",
    "data = {'Values': [10, 20, 30, 40, 50]}\n",
    "df = pd.DataFrame(data)\n",
    "\n",
    "mean, median, std_deviation = calculate_statistics(df)\n",
    "\n",
    "print(\"Mean:\", mean)\n",
    "print(\"Median:\", median)\n",
    "print(\"Standard Deviation:\", std_deviation)\n"
   ]
  },
  {
   "cell_type": "code",
   "execution_count": 26,
   "id": "2792c41f",
   "metadata": {},
   "outputs": [],
   "source": [
    "#Q10. Given a Pandas DataFrame df with a column 'Sales' and a column 'Date', write a Python function to create a new column 'MovingAverage' that contains the moving average of the sales for the past 7 days\n",
    "#for each row in the DataFrame. The moving average should be calculated using a window of size 7 and should include the current day."
   ]
  },
  {
   "cell_type": "code",
   "execution_count": 27,
   "id": "ee7df591",
   "metadata": {},
   "outputs": [
    {
     "name": "stdout",
     "output_type": "stream",
     "text": [
      "        Date  Sales  MovingAverage\n",
      "0 2023-01-01     10           10.0\n",
      "1 2023-01-02     20           15.0\n",
      "2 2023-01-03     30           20.0\n",
      "3 2023-01-04     40           25.0\n",
      "4 2023-01-05     50           30.0\n",
      "5 2023-01-06     60           35.0\n",
      "6 2023-01-07     70           40.0\n",
      "7 2023-01-08     80           50.0\n",
      "8 2023-01-09     90           60.0\n",
      "9 2023-01-10    100           70.0\n"
     ]
    }
   ],
   "source": [
    "import pandas as pd\n",
    "\n",
    "def calculate_moving_average(df):\n",
    "\n",
    "    df['MovingAverage'] = df['Sales'].rolling(window=7, min_periods=1).mean()\n",
    "    \n",
    "    return df\n",
    "\n",
    "data = {'Date': pd.date_range(start='2023-01-01', periods=10, freq='D'),\n",
    "        'Sales': [10, 20, 30, 40, 50, 60, 70, 80, 90, 100]}\n",
    "\n",
    "df = pd.DataFrame(data)\n",
    "\n",
    "result_df = calculate_moving_average(df)\n",
    "\n",
    "print(result_df)\n"
   ]
  },
  {
   "cell_type": "code",
   "execution_count": 1,
   "id": "900afa9b",
   "metadata": {},
   "outputs": [],
   "source": [
    "#Q11. You have a Pandas DataFrame df with a column 'Date'. Write a Python function that creates a new column 'Weekday' in the DataFrame. The 'Weekday' column should contain the weekday name (e.g.\n",
    "#Monday, Tuesday) corresponding to each date in the 'Date' column."
   ]
  },
  {
   "cell_type": "code",
   "execution_count": 14,
   "id": "55a2de58",
   "metadata": {},
   "outputs": [
    {
     "data": {
      "text/html": [
       "<div>\n",
       "<style scoped>\n",
       "    .dataframe tbody tr th:only-of-type {\n",
       "        vertical-align: middle;\n",
       "    }\n",
       "\n",
       "    .dataframe tbody tr th {\n",
       "        vertical-align: top;\n",
       "    }\n",
       "\n",
       "    .dataframe thead th {\n",
       "        text-align: right;\n",
       "    }\n",
       "</style>\n",
       "<table border=\"1\" class=\"dataframe\">\n",
       "  <thead>\n",
       "    <tr style=\"text-align: right;\">\n",
       "      <th></th>\n",
       "      <th>Date</th>\n",
       "      <th>Weedays</th>\n",
       "    </tr>\n",
       "  </thead>\n",
       "  <tbody>\n",
       "    <tr>\n",
       "      <th>0</th>\n",
       "      <td>12-1-2023</td>\n",
       "      <td>Monday</td>\n",
       "    </tr>\n",
       "    <tr>\n",
       "      <th>1</th>\n",
       "      <td>13-1-2023</td>\n",
       "      <td>Tuesday</td>\n",
       "    </tr>\n",
       "    <tr>\n",
       "      <th>2</th>\n",
       "      <td>14-1-2023</td>\n",
       "      <td>Wednesday</td>\n",
       "    </tr>\n",
       "    <tr>\n",
       "      <th>3</th>\n",
       "      <td>15-1-2023</td>\n",
       "      <td>Thursday</td>\n",
       "    </tr>\n",
       "    <tr>\n",
       "      <th>4</th>\n",
       "      <td>16-1-2023</td>\n",
       "      <td>Friday</td>\n",
       "    </tr>\n",
       "    <tr>\n",
       "      <th>5</th>\n",
       "      <td>17-1-2023</td>\n",
       "      <td>Saturday</td>\n",
       "    </tr>\n",
       "    <tr>\n",
       "      <th>6</th>\n",
       "      <td>18-1-2023</td>\n",
       "      <td>Sunday</td>\n",
       "    </tr>\n",
       "  </tbody>\n",
       "</table>\n",
       "</div>"
      ],
      "text/plain": [
       "        Date    Weedays\n",
       "0  12-1-2023     Monday\n",
       "1  13-1-2023    Tuesday\n",
       "2  14-1-2023  Wednesday\n",
       "3  15-1-2023   Thursday\n",
       "4  16-1-2023     Friday\n",
       "5  17-1-2023   Saturday\n",
       "6  18-1-2023     Sunday"
      ]
     },
     "execution_count": 14,
     "metadata": {},
     "output_type": "execute_result"
    }
   ],
   "source": [
    "import pandas as pd\n",
    "\n",
    "data={'Date':['12-1-2023','13-1-2023','14-1-2023','15-1-2023','16-1-2023','17-1-2023','18-1-2023']}\n",
    "df=pd.DataFrame(data)\n",
    "df['Weedays']=['Monday','Tuesday','Wednesday','Thursday','Friday','Saturday','Sunday']\n",
    "df\n"
   ]
  },
  {
   "cell_type": "code",
   "execution_count": 15,
   "id": "85a5c085",
   "metadata": {},
   "outputs": [],
   "source": [
    "#Q12. Given a Pandas DataFrame df with a column 'Date' that contains timestamps, write a Python function to select all rows where the date is between '2023-01-01' and '2023-01-31'."
   ]
  },
  {
   "cell_type": "code",
   "execution_count": 21,
   "id": "8d8c6b23",
   "metadata": {},
   "outputs": [
    {
     "data": {
      "text/html": [
       "<div>\n",
       "<style scoped>\n",
       "    .dataframe tbody tr th:only-of-type {\n",
       "        vertical-align: middle;\n",
       "    }\n",
       "\n",
       "    .dataframe tbody tr th {\n",
       "        vertical-align: top;\n",
       "    }\n",
       "\n",
       "    .dataframe thead th {\n",
       "        text-align: right;\n",
       "    }\n",
       "</style>\n",
       "<table border=\"1\" class=\"dataframe\">\n",
       "  <thead>\n",
       "    <tr style=\"text-align: right;\">\n",
       "      <th></th>\n",
       "      <th>Date</th>\n",
       "    </tr>\n",
       "  </thead>\n",
       "  <tbody>\n",
       "    <tr>\n",
       "      <th>0</th>\n",
       "      <td>12-01-2023</td>\n",
       "    </tr>\n",
       "    <tr>\n",
       "      <th>1</th>\n",
       "      <td>13-01-2023</td>\n",
       "    </tr>\n",
       "    <tr>\n",
       "      <th>2</th>\n",
       "      <td>14-01-2023</td>\n",
       "    </tr>\n",
       "    <tr>\n",
       "      <th>3</th>\n",
       "      <td>15-01-2023</td>\n",
       "    </tr>\n",
       "    <tr>\n",
       "      <th>4</th>\n",
       "      <td>16-01-2023</td>\n",
       "    </tr>\n",
       "    <tr>\n",
       "      <th>5</th>\n",
       "      <td>17-01-2023</td>\n",
       "    </tr>\n",
       "    <tr>\n",
       "      <th>6</th>\n",
       "      <td>18-01-2023</td>\n",
       "    </tr>\n",
       "  </tbody>\n",
       "</table>\n",
       "</div>"
      ],
      "text/plain": [
       "         Date\n",
       "0  12-01-2023\n",
       "1  13-01-2023\n",
       "2  14-01-2023\n",
       "3  15-01-2023\n",
       "4  16-01-2023\n",
       "5  17-01-2023\n",
       "6  18-01-2023"
      ]
     },
     "execution_count": 21,
     "metadata": {},
     "output_type": "execute_result"
    }
   ],
   "source": [
    "import pandas as pd\n",
    "\n",
    "data={'Date':['12-01-2023','13-01-2023','14-01-2023','15-01-2023','16-01-2023','17-01-2023','18-01-2023']}\n",
    "\n",
    "df=pd.DataFrame(data)\n",
    "\n",
    "start_date='01-01-2023'\n",
    "end_date='31-01-2023'\n",
    "\n",
    "selected_rows=(df['Date']>=start_date) & (df['Date']<=end_date)\n",
    "df[selected_rows]"
   ]
  },
  {
   "cell_type": "code",
   "execution_count": 22,
   "id": "d11d7cd6",
   "metadata": {},
   "outputs": [],
   "source": [
    "#Q13. To use the basic functions of pandas, what is the first and foremost necessary library that needs to be imported?"
   ]
  },
  {
   "cell_type": "code",
   "execution_count": 23,
   "id": "f0605ea0",
   "metadata": {},
   "outputs": [],
   "source": [
    "#The first and foremost library that needs to be imported to use the basic functions of Pandas is, unsurprisingly, the pandas library itself.\n",
    "import pandas as pd"
   ]
  },
  {
   "cell_type": "code",
   "execution_count": null,
   "id": "8e9803f8",
   "metadata": {},
   "outputs": [],
   "source": []
  }
 ],
 "metadata": {
  "kernelspec": {
   "display_name": "Python 3 (ipykernel)",
   "language": "python",
   "name": "python3"
  },
  "language_info": {
   "codemirror_mode": {
    "name": "ipython",
    "version": 3
   },
   "file_extension": ".py",
   "mimetype": "text/x-python",
   "name": "python",
   "nbconvert_exporter": "python",
   "pygments_lexer": "ipython3",
   "version": "3.11.1"
  }
 },
 "nbformat": 4,
 "nbformat_minor": 5
}
