{
 "cells": [
  {
   "cell_type": "code",
   "execution_count": 3,
   "id": "5e61c7f8",
   "metadata": {},
   "outputs": [],
   "source": [
    "#Question no-1\n",
    "#What is multithreading in python? Why is it used? Name the module used to handle threads in python\n",
    "#Multithreading refers to concurrently executing multiple threads by rapidly switching the control of the CPU between threads\n",
    "#The Python Global Interpreter Lock limits one thread to run at a time even if the machine contains multiple processors.\n",
    "#The module \"thread\" treats a thread as a function, while the module \"threading\" is implemented in an object oriented way."
   ]
  },
  {
   "cell_type": "code",
   "execution_count": 4,
   "id": "0a75be19",
   "metadata": {},
   "outputs": [],
   "source": [
    "#Question no-2\n",
    "#. Why threading module used? rite the use of the following functions\n",
    "#1 activeCount()\n",
    "#In Python, the method threading.activecount() from the threading module is used to count the currently active or running threads.\n",
    "#2 currentThread()\n",
    "#It is used to return the current Thread object, which corresponds to the caller's thread of control.\n",
    "#3.enumerate()\n",
    "#It allows you to keep track of the number of iterations loops in a loop."
   ]
  },
  {
   "cell_type": "code",
   "execution_count": 5,
   "id": "028d0f61",
   "metadata": {},
   "outputs": [],
   "source": [
    "#Question no-3\n",
    "#. Explain the following functions:\n",
    "#1.run()\n",
    "#The Run key makes the program run every time the user logs on.\n",
    "#2.start()\n",
    "#start() method is an inbuilt method of the Thread class of the threading module, it is used to start a thread's activity.\n",
    "#3.join\n",
    "#The join() method takes all items in an iterable and joins them into one string. A string must be specified as the separator.\n",
    "#4.isAlive\n",
    "#isAlive() method is an inbuilt method of the Thread class of the threading module, it is used to check whether that thread is alive or not.."
   ]
  },
  {
   "cell_type": "code",
   "execution_count": 6,
   "id": "081b88e5",
   "metadata": {},
   "outputs": [],
   "source": [
    "#Question no-4\n",
    "#Write a python program to create two threads. Thread one must print the list of squares and thread two must print the list of cubes?\n"
   ]
  },
  {
   "cell_type": "code",
   "execution_count": 7,
   "id": "7baad329",
   "metadata": {},
   "outputs": [],
   "source": [
    "#Question no-5\n",
    "#State advantages and disadvantages of multithreading?\n",
    "#ADVANTAGES\n",
    "#Enhanced performance by decreased development time\n",
    "#Simplified and streamlined program coding\n",
    "#improvised GUI responsiveness\n",
    "#Simultaneous and parallelized occurrence of tasks\n",
    "#Better use of cache storage by utilization of resources\n",
    "#Decreased cost of maintenance\n",
    "#Better use of CPU resource\n",
    "#DISADVANTAGE\n",
    "#Complex debugging and testing processes\n",
    "#Overhead switching of context\n",
    "#Increased potential for deadlock occurrence\n",
    "#Increased difficulty level in writing a program\n",
    "#Unpredictable results"
   ]
  },
  {
   "cell_type": "code",
   "execution_count": 8,
   "id": "91ea4a58",
   "metadata": {},
   "outputs": [],
   "source": [
    "#Question no-6\n",
    "#Explain deadlocks and race conditions.\n",
    "#A deadlock is a concurrency failure mode where a thread or threads wait for a condition that never occurs.\n",
    "#"
   ]
  },
  {
   "cell_type": "code",
   "execution_count": null,
   "id": "8fa5d724",
   "metadata": {},
   "outputs": [],
   "source": []
  }
 ],
 "metadata": {
  "kernelspec": {
   "display_name": "Python 3 (ipykernel)",
   "language": "python",
   "name": "python3"
  },
  "language_info": {
   "codemirror_mode": {
    "name": "ipython",
    "version": 3
   },
   "file_extension": ".py",
   "mimetype": "text/x-python",
   "name": "python",
   "nbconvert_exporter": "python",
   "pygments_lexer": "ipython3",
   "version": "3.11.1"
  }
 },
 "nbformat": 4,
 "nbformat_minor": 5
}
