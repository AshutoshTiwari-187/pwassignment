{
 "cells": [
  {
   "cell_type": "code",
   "execution_count": 1,
   "id": "691f77fd",
   "metadata": {},
   "outputs": [],
   "source": [
    "#Q1. What is MongoDB? Explain non-relational databases in short. In which scenarios it is preferred to use MongoDB over SQL databases?\n",
    "\n",
    "#MongoDB is a document database with the scalability and flexibility that you want with the querying and indexing that you need.\n",
    "\n",
    "#A non-relational database is a database that does not use the tabular schema of rows and columns found in most traditional database systems.\n",
    "\n",
    "#In comparison to the SQL server, MongoDB is faster and more scalable. While the SQL server supports JOIN and Global transactions, MongoDB does not. The MS SQL server does not accommodate large amounts of data, however MongoDB does."
   ]
  },
  {
   "cell_type": "code",
   "execution_count": 2,
   "id": "7d7b6854",
   "metadata": {},
   "outputs": [],
   "source": [
    "#Q2. State and Explain the features of MongoDB.\n",
    "\n",
    "#MongoDB is an open-source document-oriented database that is designed to store a large scale of data and also allows you to work with that data very efficiently.\n",
    "\n",
    "#Fetures of MongoDB are:-\n",
    "#Schema-less Database\n",
    "#Document Oriented \n",
    "#Scalibility\n",
    "#Replication\n",
    "#Aggregation\n",
    "#High Performance\n"
   ]
  },
  {
   "cell_type": "code",
   "execution_count": null,
   "id": "9aa01985",
   "metadata": {},
   "outputs": [],
   "source": [
    "#Q3. Write a code to connect MongoDB to Python. Also, create a database and a collection in MongoDB.\n",
    "\n",
    "from pymongo.mongo_client import MongoClient\n",
    "from pymongo.server_api import ServerApi\n",
    "\n",
    "uri = \"mongodb+srv://Ashutosh1813:<password>@cluster0.jwl5m04.mongodb.net/?retryWrites=true&w=majority\"\n",
    "\n",
    "# Create a new client and connect to the server\n",
    "client = MongoClient(uri, server_api=ServerApi('1'))\n",
    "\n",
    "# Send a ping to confirm a successful connection\n",
    "try:\n",
    "    client.admin.command('ping')\n",
    "    print(\"Pinged your deployment. You successfully connected to MongoDB!\")\n",
    "except Exception as e:\n",
    "    print(e)"
   ]
  },
  {
   "cell_type": "code",
   "execution_count": null,
   "id": "8911c997",
   "metadata": {},
   "outputs": [],
   "source": [
    "#Q4. Using the database and the collection created in question number 3, write a code to insert one record,and insert many records. Use the find() and find_one() methods to print the inserted record.\n",
    "\n",
    "db=client['pwskill']\n",
    "\n",
    "#INSERT ONE\n",
    "data={  \"name\":\"raj\",\n",
    "                \"class\" :\"MongoDB\",\n",
    "            \"time\":\"variable\",\n",
    "              \"people\":34\n",
    "}\n",
    "coll_pwskill=db[\"mycollection\"]\n",
    "\n",
    "\n",
    "coll_pwskill.insert_one(data)\n",
    "#INSERT MANY\n",
    "\n",
    "data1={  {\"month\":\"july\"}\n",
    "            {\"month\": \"may\"}\n",
    "    \n",
    "}\n",
    "\n",
    "coll_pwskill.insert_many(data1)\n",
    "\n",
    "\n",
    "#FIND\n",
    "\n",
    "coll_pwskill.find()\n",
    "\n",
    "#FIND ONE \n",
    "\n",
    "coll_pwskill.findone()\n",
    "\n",
    "#PRINT INSERETED RECORD\n",
    "\n",
    "for i in coll_pwskill():\n",
    "    print(i)\n"
   ]
  },
  {
   "cell_type": "code",
   "execution_count": null,
   "id": "66e91177",
   "metadata": {},
   "outputs": [],
   "source": [
    "#Q5. Explain how you can use the find() method to query the MongoDB database. Write a simple code to demonstrate this.\n",
    "\n",
    "#In MongoDB, find() method is used to select documents in a collection and return a cursor to the selected documents\n",
    "\n",
    "coll_pwskill.find()\n"
   ]
  },
  {
   "cell_type": "code",
   "execution_count": null,
   "id": "47416721",
   "metadata": {},
   "outputs": [],
   "source": [
    "#Q6. Explain the sort() method. Give an example to demonstrate sorting in MongoDB.\n",
    "\n",
    "#In MongoDB, sort() method is used to sort the documents in the collection. This method accepts a document containing list of fields along with their sorting order.\n",
    "\n",
    "\n",
    "db.COLLECTION_NAME.find().sort({KEY:1})\n"
   ]
  },
  {
   "cell_type": "code",
   "execution_count": null,
   "id": "2fe92344",
   "metadata": {},
   "outputs": [],
   "source": [
    "#Q7. Explain why delete_one(), delete_many(), and drop() is used.\n",
    "\n",
    "#DELETE ONE\n",
    "#The deleteOne() method deletes the first document from the collection that matches the given selection criteria.\n",
    "\n",
    "#DELETE MANY\n",
    "#deleteMany() is a mongo shell method, which can delete multiple documents. This method can be used in the multi-document transactions.\n",
    "\n",
    "#DROP\n",
    "#MongoDB's db.collection.drop() is used to drop a collection from the database."
   ]
  }
 ],
 "metadata": {
  "kernelspec": {
   "display_name": "Python 3 (ipykernel)",
   "language": "python",
   "name": "python3"
  },
  "language_info": {
   "codemirror_mode": {
    "name": "ipython",
    "version": 3
   },
   "file_extension": ".py",
   "mimetype": "text/x-python",
   "name": "python",
   "nbconvert_exporter": "python",
   "pygments_lexer": "ipython3",
   "version": "3.11.1"
  }
 },
 "nbformat": 4,
 "nbformat_minor": 5
}
