{
 "cells": [
  {
   "cell_type": "code",
   "execution_count": 44,
   "id": "f5b50d14",
   "metadata": {},
   "outputs": [],
   "source": [
    "# Question no -1\n",
    "class Vechile:\n",
    "    \n",
    "    def __init__(self,name_of_vehicle,max_speed,average_of_vehicle):\n",
    "        self.name_of_vehicle=name_of_vehicle\n",
    "        self.max_speed=max_speed\n",
    "        self.average_of_vehicle=average_of_vehicle\n",
    "       "
   ]
  },
  {
   "cell_type": "code",
   "execution_count": 45,
   "id": "e2aa27bf",
   "metadata": {},
   "outputs": [],
   "source": [
    "#Qusetion no-2\n",
    "class Car(Vechile):\n",
    "    def __init__(self, name, make, model, year, weight,num_doors):\n",
    "        Vechile.__init__(self, name, make, model, year, weight)\n",
    "        self.num_doors = num_doors\n",
    "\n",
    "    def seating_capacity(self, capacity):\n",
    "        return f\"{self.name} has a seating capacity of {capacity}.\"\n",
    "\n",
    "        car = car(\"sedan\", \"Toyota\", \"Camry\", 2020,3000, 4)\n",
    "        print(car.seating_capacity(5))"
   ]
  },
  {
   "cell_type": "code",
   "execution_count": 50,
   "id": "be14e32f",
   "metadata": {},
   "outputs": [],
   "source": [
    "class Car(vechile): \n",
    "    def init(self, name, make,model,year,weight): \n",
    "        self.name = name\n",
    "        self.make = make\n",
    "        self.model = model \n",
    "        self.year = year \n",
    "        self.weight =weight\n",
    "\n",
    "class Car(vechile):\n",
    "    def __init__(self, name, make, model, year, weight,num_doors):\n",
    "        vechile__init__(self, name, make, model, year, weight)\n",
    "        self.num_doors = num_doors\n",
    "\n",
    "    def seating_capacity(self, capacity):\n",
    "        return f\"{self.name} has a seating capacity of {capacity}.\"\n",
    "\n",
    "        car = car(\"sedan\", \"Toyota\", \"Camry\", 2020,3000, 4)\n",
    "        print(car.seating_capacity(5))"
   ]
  },
  {
   "cell_type": "code",
   "execution_count": 56,
   "id": "b1785ba7",
   "metadata": {},
   "outputs": [
    {
     "name": "stdout",
     "output_type": "stream",
     "text": [
      "In Class2\n"
     ]
    }
   ],
   "source": [
    "#Question no-3\n",
    "#When a class is derived from more than one base class it is called multiple Inheritance. The derived class inherits all the features of the base case.\n",
    "class Class1:\n",
    "    def m(self):\n",
    "        print(\"In Class1\")\n",
    "\n",
    "class Class2(Class1):\n",
    "    def m(self):\n",
    "        print(\"In Class2\")\n",
    "\n",
    "class Class3(Class1):\n",
    "    def m(self):\n",
    "        print(\"In Class3\") \n",
    "        \n",
    "class Class4(Class2, Class3):\n",
    "    pass  \n",
    "     \n",
    "obj = Class4()\n",
    "obj.m()\n"
   ]
  },
  {
   "cell_type": "code",
   "execution_count": 105,
   "id": "eb847806",
   "metadata": {},
   "outputs": [],
   "source": [
    "#Question no-4\n",
    "#Getters: These are the methods used in Object-Oriented Programming (OOPS) which helps to access the private attributes from a class. \n",
    "#Setters: These are the methods used in OOPS feature which helps to set the value to private attributes in a class.\n",
    "class myclass:\n",
    "    \n",
    "    def __init__(self,value):\n",
    "        self._value=value\n",
    "    def show(self):\n",
    "        print(f\"value is : {self._value}\")\n",
    "    @property\n",
    "    def ten_value(self):\n",
    "        return 10*self._value\n",
    "    @ten_value.setter\n",
    "    def ten_value(self,new_value):\n",
    "        self._value=new_value/10\n",
    "    \n",
    "    \n",
    "    \n",
    "    "
   ]
  },
  {
   "cell_type": "code",
   "execution_count": 106,
   "id": "96b6dbb9",
   "metadata": {},
   "outputs": [
    {
     "name": "stdout",
     "output_type": "stream",
     "text": [
      "67.0\n",
      "value is : 6.7\n"
     ]
    }
   ],
   "source": [
    "obj=myclass(10)\n",
    "obj.ten_value=67\n",
    "print(obj.ten_value)\n",
    "obj.show()"
   ]
  },
  {
   "cell_type": "code",
   "execution_count": 1,
   "id": "588d4623",
   "metadata": {},
   "outputs": [],
   "source": [
    "#Question no-5\n",
    "#Method overriding is a feature of object-oriented programming languages where the subclass or child class\n",
    "#can provide the program with specific characteristics or a specific implementation process of data provided that \n",
    "#are already defined in the parent class or superclass\n"
   ]
  },
  {
   "cell_type": "code",
   "execution_count": null,
   "id": "c7bd4fb6",
   "metadata": {},
   "outputs": [],
   "source": []
  }
 ],
 "metadata": {
  "kernelspec": {
   "display_name": "Python 3 (ipykernel)",
   "language": "python",
   "name": "python3"
  },
  "language_info": {
   "codemirror_mode": {
    "name": "ipython",
    "version": 3
   },
   "file_extension": ".py",
   "mimetype": "text/x-python",
   "name": "python",
   "nbconvert_exporter": "python",
   "pygments_lexer": "ipython3",
   "version": "3.11.1"
  }
 },
 "nbformat": 4,
 "nbformat_minor": 5
}
