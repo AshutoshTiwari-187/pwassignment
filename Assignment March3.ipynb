{
 "cells": [
  {
   "cell_type": "code",
   "execution_count": 1,
   "id": "4d0d5024",
   "metadata": {},
   "outputs": [],
   "source": [
    "#Que 1: Name any five plots that we can plot using the Seaborn library. Also, state the uses of each plot.\n",
    "\n",
    "\n",
    "#Scatter Plot:\n",
    "\n",
    "#A scatter plot is a graphical representation of the relationship between two continuous variables, where each point represents an observation.\n",
    "\n",
    "#Bar Plot:\n",
    "\n",
    "#A bar plot displays the distribution or relationship of a categorical variable, with the height of bars indicating summary statistics (e.g., mean) for each category.\n",
    "\n",
    "#Histogram:\n",
    "\n",
    "#A histogram is a visual representation of the distribution of a single numerical variable, dividing it into bins and displaying the frequency (or density) of observations within each bin.\n",
    "\n",
    "#Box Plot:\n",
    "\n",
    "#A box plot provides a summary of the distribution of a numerical variable across different levels of a categorical variable, showing median, quartiles, and potential outliers.\n",
    "\n",
    "#Heatmap:\n",
    "\n",
    "#A heatmap is a matrix-like representation of data, using colors to represent the magnitude of values, commonly used for visualizing correlations, confusion matrices, or 2D distributions.\n",
    "\n",
    "\n",
    "\n",
    "\n",
    "\n"
   ]
  },
  {
   "cell_type": "code",
   "execution_count": null,
   "id": "df43d49f",
   "metadata": {},
   "outputs": [],
   "source": [
    "#Que 2: Load the \"fmri\" dataset using the load_dataset function of seaborn. Plot a line plot using x = \"timepoint\" and y = \"signal\" for different events and regions.\n",
    "\n",
    "import seaborn as sns\n",
    "sns.load_dataset(\"fmri\")\n",
    "sns.lineplot(x=fmri.timepoint,y=fmri.signal)"
   ]
  },
  {
   "cell_type": "code",
   "execution_count": null,
   "id": "6f499d22",
   "metadata": {},
   "outputs": [],
   "source": [
    "#Que 3: Load the \"titanic\" dataset using the load_dataset function of seaborn. Plot two box plots using x = 'pclass', y = 'age' and y = 'fare'.\n",
    "import seaborn as sns\n",
    "sns.load_dataset(\"titanic\")\n",
    "sns.boxplot(x=\"pclass\",y=\"age\",data=titanic)\n",
    "sns.boxplot(x=\"pclass\",y=\"fare\",data=titanic)"
   ]
  },
  {
   "cell_type": "code",
   "execution_count": null,
   "id": "2c987a84",
   "metadata": {},
   "outputs": [],
   "source": [
    "#Que 4: Use the \"diamonds\" dataset from seaborn to plot a histogram for the 'price' column. Use the hue parameter for the 'cut' column of the diamonds dataset.\n",
    "sns.histplot(data=dimonds,x='price',hue='cut')\n",
    "plt.title('Histogram of price by cut')\n",
    "plt.xlable(\"price\")\n",
    "plt.ylable('count')"
   ]
  },
  {
   "cell_type": "code",
   "execution_count": null,
   "id": "d8bdf618",
   "metadata": {},
   "outputs": [],
   "source": [
    "#Que 5: Use the \"iris\" dataset from seaborn to plot a pair plot. Use the hue parameter for the \"species\" column of the iris dataset.\n",
    "sns.pairplot(data=iris, hue='species')"
   ]
  },
  {
   "cell_type": "code",
   "execution_count": null,
   "id": "1811bbd4",
   "metadata": {},
   "outputs": [],
   "source": [
    "#Que 6: Use the \"flights\" dataset from seaborn to plot a heatmap.\n",
    "sns.heatmap(data=tips)"
   ]
  }
 ],
 "metadata": {
  "kernelspec": {
   "display_name": "Python 3 (ipykernel)",
   "language": "python",
   "name": "python3"
  },
  "language_info": {
   "codemirror_mode": {
    "name": "ipython",
    "version": 3
   },
   "file_extension": ".py",
   "mimetype": "text/x-python",
   "name": "python",
   "nbconvert_exporter": "python",
   "pygments_lexer": "ipython3",
   "version": "3.11.1"
  }
 },
 "nbformat": 4,
 "nbformat_minor": 5
}
