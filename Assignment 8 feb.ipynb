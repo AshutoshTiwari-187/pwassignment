{
 "cells": [
  {
   "cell_type": "code",
   "execution_count": 1,
   "id": "97ee51c5",
   "metadata": {},
   "outputs": [],
   "source": [
    "#Question no-1\n",
    "#Abstraction is one of the key concepts of object-oriented programming (OOP) languages. \n",
    "#Its main goal is to handle complexity by hiding unnecessary details from the user.\n",
    "#That enables the user to implement more complex logic on top of the provided abstraction, \n",
    "#without understanding or even thinking about all the hidden complexity\n",
    "#Your car is a great example of abstraction. You can start a car by turning the key or pressing the start button. \n",
    "#You don't need to know how the engine is getting started, what all components your car has.\n",
    "#The car internal implementation and complex logic is completely hidden from the user"
   ]
  },
  {
   "cell_type": "code",
   "execution_count": 2,
   "id": "3f34f212",
   "metadata": {},
   "outputs": [],
   "source": [
    "#Question no-2\n",
    "#Abstraction is a design level process and it is used to reduce the complexity at the designing stage of a project.\n",
    "#Encapsulation is an implementation level process, and it is used to provide privacy and maintain control over the,\n",
    "#transparency of data at the implementation stage of a project"
   ]
  },
  {
   "cell_type": "code",
   "execution_count": 3,
   "id": "413ac3c4",
   "metadata": {},
   "outputs": [],
   "source": [
    "#Question no-3\n",
    "#This module provides the infrastructure for defining abstract base classes ABCs in Python.\n",
    "#As outlined in PEP 3119; see the PEP for why this was added to Python.\n",
    "#See also PEP 3141 and the numbers module regarding a type hierarchy for numbers based on ABCs."
   ]
  },
  {
   "cell_type": "code",
   "execution_count": 1,
   "id": "50b35af9",
   "metadata": {},
   "outputs": [],
   "source": [
    "#Question no-4\n",
    "#We can achieve data abstraction through Abstract classes and interfaces.\n",
    "#Through abstract classes, you can achieve partial or complete abstraction as abstract classes ,\n",
    "#contain methods that have an implementation which can result in partial abstraction."
   ]
  },
  {
   "cell_type": "code",
   "execution_count": 2,
   "id": "290d52fd",
   "metadata": {},
   "outputs": [],
   "source": [
    "#Question no-5\n",
    "#Abstract classes cannot be instantiated, but they can be subclassed. \n",
    "#When an abstract class is subclassed, the subclass usually provides implementations for all of the abstract methods in its parent class. \n",
    "#However, if it does not, then the subclass must also be declared abstract ."
   ]
  },
  {
   "cell_type": "code",
   "execution_count": null,
   "id": "effa33b1",
   "metadata": {},
   "outputs": [],
   "source": []
  },
  {
   "cell_type": "code",
   "execution_count": null,
   "id": "5a4d613e",
   "metadata": {},
   "outputs": [],
   "source": []
  }
 ],
 "metadata": {
  "kernelspec": {
   "display_name": "Python 3 (ipykernel)",
   "language": "python",
   "name": "python3"
  },
  "language_info": {
   "codemirror_mode": {
    "name": "ipython",
    "version": 3
   },
   "file_extension": ".py",
   "mimetype": "text/x-python",
   "name": "python",
   "nbconvert_exporter": "python",
   "pygments_lexer": "ipython3",
   "version": "3.11.1"
  }
 },
 "nbformat": 4,
 "nbformat_minor": 5
}
