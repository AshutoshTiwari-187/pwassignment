{
 "cells": [
  {
   "cell_type": "code",
   "execution_count": null,
   "id": "f80d1e9e-c2a5-42e1-b59a-484c6c5683f3",
   "metadata": {},
   "outputs": [],
   "source": [
    "#Q1: What is the difference between a t-test and a z-test? Provide an example scenario where you would use each type of test.\n",
    "A t-test and a z-test are both statistical tests used to determine whether a sample is significantly different from a population. The main difference between the two tests is that a z-test is used when the population standard deviation is known and the sample size is large, while a t-test is used when the population standard deviation is unknown and the sample size is small to moderate\n",
    "An example scenario where a z-test would be used is when a company wants to determine if the average time customers take to complete an online purchase has changed after implementing a new website design. If the company has access to a large dataset and knows the population standard deviation, they can use a z-test to determine if the sample mean significantly differs from the population mean\n",
    "An example scenario where a t-test would be used is when a researcher wants to determine if a new drug lowers blood pressure. If the researcher has a small sample size and does not know the population standard deviation, they can use a t-test to determine if the sample mean significantly differs from the population mean"
   ]
  },
  {
   "cell_type": "code",
   "execution_count": null,
   "id": "97c71c53-9e57-4903-8a71-9c69f34a86db",
   "metadata": {},
   "outputs": [],
   "source": [
    "#Q2: Differentiate between one-tailed and two-tailed tests.\n",
    "In statistics, a one-tailed test and a two-tailed test are used to determine the statistical significance of a sample. The main difference between the two tests is that a one-tailed test looks for an increase or decrease in the parameter, while a two-tailed test looks for a change in the parameter, which could be an increase or decrease"
   ]
  },
  {
   "cell_type": "code",
   "execution_count": null,
   "id": "2c8a9ba4-f3de-4312-9182-6b7a95b7e373",
   "metadata": {},
   "outputs": [],
   "source": [
    "#Q3: Explain the concept of Type 1 and Type 2 errors in hypothesis testing. Provide an example scenario for each type of error.\n",
    "Type 1 error: Occurs when you incorrectly reject the null hypothesis (H0) when it is actually true. This leads to accepting a false finding. The probability of committing a Type 1 error is denoted by α\n",
    "Example: If you perform a hypothesis test using a significance level (α) of 0.05 and falsely reject the null hypothesis that the average height of men is 180 cm when it is truly 180 cm due to random variation, you commit a Type 1 error\n",
    "\n",
    "Type 2 error: Occurs when you fail to reject the null hypothesis (H0) when it is actually false. This leads to missing a genuine finding. The probability of committing a Type 2 error is denoted by β\n",
    "Example: If you perform a hypothesis test using a significance level (α) of 0.05 and fail to reject the null hypothesis that the average weight loss of patients taking a new diet pill is 5 kg when it is actually 3 kg, you commit a Type 2 error"
   ]
  },
  {
   "cell_type": "code",
   "execution_count": null,
   "id": "c1a49388-14e4-4294-9aed-c6d35d813618",
   "metadata": {},
   "outputs": [],
   "source": [
    "#Q4: Explain Bayes's theorem with an example.\n",
    "Bayes Theorem is a mathematical formula for determining conditional probability. It allows the revision of existing predictions or theories given new or additional evidence. The theorem is expressed as:\n",
    "\n",
    "P(A∣B)= P(B∣A)×P(A)/P(B)\n",
    "​Where:\n",
    "P(A∣B) is the probability of event A occurring given that event B has occurred.\n",
    "P(B∣A) is the probability of event B occurring given that event A has occurred.\n",
    "P(A) and P(B) are the probabilities of events A and B, respectively. \n"
   ]
  },
  {
   "cell_type": "code",
   "execution_count": null,
   "id": "11303cf8-ae11-49a0-be84-229b17cf4d44",
   "metadata": {},
   "outputs": [],
   "source": [
    "#Q5: What is a confidence interval? How to calculate the confidence interval, explain with an example.\n",
    "A confidence interval is a range of plausible values for a population parameter, such as the mean or proportion, based on a sample.\n",
    "                                                                                                               \n",
    "Example: Confidence Interval for a Population Mean\n",
    "Suppose we have a sample of 25 individuals with a mean of 75 and a standard deviation of 10. We want to find a 95% confidence interval for the population mean.\n",
    "First, find the z^* value for a 95% confidence interval, which is 1.96. Next, calculate the margin of error:\n",
    "ME=1.96\\cdot \\frac{10}{\\sqrt{25}}=1.96\\cdot \\frac{10}{5}=3.92\n",
    "Finally, find the confidence interval limits:\n",
    "Lower\\Limit=75-3.92=71.08\n",
    "Upper\\Limit=75+3.92=78.92\n",
    "So the 95% confidence interval for the population mean is approximately (71.08, 78.92)"
   ]
  },
  {
   "cell_type": "code",
   "execution_count": null,
   "id": "8dc6c254-99d8-4b45-b20c-83a7f0116fc2",
   "metadata": {},
   "outputs": [],
   "source": [
    "#Q6. Use Bayes' Theorem to calculate the probability of an event occurring given prior knowledge of the event's probability and new evidence. Provide a sample problem and solution.\n",
    "Sample Problem\n",
    "Suppose a certain type of cancer affects 1% of the population. A new diagnostic test for this cancer has been developed, and clinical trials have shown that the test correctly identifies 95% of the cases of this cancer (true positive rate) and produces a false positive in 2% of the cases (1-specificity, which is 1 - true negative rate).\n",
    "Now, if a person from this population tests positive for this cancer using the new diagnostic test, what is the probability that they actually have the cancer?\n",
    "                                                                                                  Solution\n",
    "Let's define the events:\n",
    "A: The person has the cancer\n",
    "B: The person tests positive\n",
    "We want to find P(A∣B), the probability that the person has the cancer given a positive test result.\n",
    "We can use Bayes' Theorem to calculate this as follows:\n",
    "\n",
    "P(A∣B)= P(B∣A)×P(A)/P(B)\n",
    "\n",
    "P(B∣A) is the probability of testing positive given that the person has the cancer (true positive rate) = 0.95\n",
    "P(A) is the probability of having the cancer = 0.01\n",
    "P(B) is the probability of testing positive, which can be calculated using the law of total probability:\n",
    "\n",
    "P(B)=P(B∣A)×P(A)+P(B∣¬A)×P(¬A)\n",
    "P(B)=0.95×0.01+0.02×0.99\n",
    "P(B)=0.0293\n",
    "\n",
    "Now, we can calculate  P(A∣B):\n",
    "P(A∣B)= 0.95×0.01/0.0293 ≈0.324\n",
    "\n",
    "So, given a positive test result, the probability that the person actually has the cancer is approximately 32.4%.\n",
    "This demonstrates how Bayes' Theorem can be used to update the probability of an event based on new evidence and prior knowledge.\n"
   ]
  },
  {
   "cell_type": "code",
   "execution_count": null,
   "id": "108e17dc-237e-43ae-84f2-c92a081a62ed",
   "metadata": {},
   "outputs": [],
   "source": [
    "#Q8. What is the margin of error in a confidence interval? How does sample size affect the margin of error? Provide an example of a scenario where a larger sample size would result in a smaller margin of error.\n",
    "The margin of error in a confidence interval is the range of values above and below the sample statistic that is likely to contain the true population parameter. It quantifies the uncertainty associated with estimating a population parameter based on a sample.\n",
    "The margin of error is affected by two main factors: the level of confidence (typically expressed as a percentage, such as 95%) and the variability or dispersion of the data in the sample. Additionally, the margin of error is inversely proportional to the square root of the sample size. This means that as the sample size increases, the margin of error decreases, and vice versa.\n",
    "\n",
    "Here's an example scenario to illustrate how a larger sample size would result in a smaller margin of error:\n",
    "Let's say we want to estimate the mean height of adult males in a certain population with 95% confidence. We take two samples: one with a sample size of 100 and another with a sample size of 400.\n",
    "For the sample with a size of 100, the margin of error might be around ±2 inches.\n",
    "For the sample with a size of 400, the margin of error might be around ±1 inch.\n",
    "In this scenario, the larger sample size (400) results in a smaller margin of error (±1 inch) compared to the smaller sample size (100) with a larger margin of error (±2 inches). This is because the larger sample size provides more information and reduces the variability in the estimates, leading to a more precise estimation of the population parameter."
   ]
  },
  {
   "cell_type": "code",
   "execution_count": null,
   "id": "a282685d-e794-4bbe-a8b4-ab07b26936a7",
   "metadata": {},
   "outputs": [],
   "source": [
    "#Q9. Calculate the z-score for a data point with a value of 75, a population mean of 70, and a population standard deviation of 5. Interpret the results.\n",
    "\n",
    "To calculate the z-score for a data point with a value of 75, a population mean of 70, and a population standard deviation of 5, we use the formula\n",
    "Z= X−μ/σ\n",
    "​Where:\n",
    "\n",
    "X is the value of the data point (75 in this case)\n",
    "\n",
    "μ is the population mean (70 in this case)\n",
    "\n",
    "σ is the population standard deviation (5 in this case)\n",
    "Plugging in the values:\n",
    "\n",
    "Z=75−70/5=1\n",
    "Hence the Z-Score is 1."
   ]
  },
  {
   "cell_type": "code",
   "execution_count": null,
   "id": "680e6936-fa1e-4b1e-a756-a3939a8bb207",
   "metadata": {},
   "outputs": [],
   "source": [
    "#Q10. In a study of the effectiveness of a new weight loss drug, a sample of 50 participants lost an average of 6 pounds with a standard deviation of 2.5 pounds. Conduct a hypothesis test to determine if the drug is significantly effective at a 95% confidence level using a t-test.\n",
    "To conduct a hypothesis test to determine if the weight loss drug is significantly effective at a 95% confidence level using a t-test, we need to follow the following steps:\n",
    "Step 1: State the null and alternative hypotheses. In this case, the null hypothesis is that the drug is not significantly effective, and the alternative hypothesis is that the drug is significantly effective.\n",
    "H0: µ = 0\n",
    "Ha: µ ≠ 0\n",
    "Step 2: Determine the level of significance (α). In this case, α = 0.05.\n",
    "Step 3: Calculate the test statistic. We will use a one-sample t-test since we are comparing the sample mean to a known population mean of 0. The formula for the t-test is:\n",
    "t = (x̄ - µ) / (s / √n)\n",
    "where x̄ is the sample mean, µ is the population mean, s is the sample standard deviation, and n is the sample size.\n",
    "Plugging in the values, we get:\n",
    "t = (6 - 0) / (2.5 / √50) = 12.65"
   ]
  },
  {
   "cell_type": "code",
   "execution_count": null,
   "id": "eb3873f7-fdf0-4fb2-ae58-3b39f2eb4d42",
   "metadata": {},
   "outputs": [],
   "source": [
    "#Q11. In a survey of 500 people, 65% reported being satisfied with their current job. Calculate the 95% confidence interval for the true proportion of people who are satisfied with their job.\n",
    "\n",
    "To calculate the 95% confidence interval for the true proportion of people who are satisfied with their job based on a survey of 500 people, we can use the following formula:\n",
    "CI = p ± zsqrt((p(1-p))/n)\n",
    "where CI is the confidence interval, p is the sample proportion (0.65), z is the z-score for a 95% confidence level (1.96), and n is the sample size (500).\n",
    "Plugging in the values, we get:\n",
    "CI = 0.65 ± 1.96sqrt((0.65(1-0.65))/500)\n",
    "CI = (0.61, 0.69)\n",
    "Therefore, we can say with 95% confidence that the true proportion of people who are satisfied with their job is between 0.61 and 0.69 based on the survey of 500 people."
   ]
  },
  {
   "cell_type": "code",
   "execution_count": null,
   "id": "2109465b-411c-4284-85ae-761827b5519f",
   "metadata": {},
   "outputs": [],
   "source": [
    "#\n",
    "Let's set up the hypotheses:\n",
    "H0:xA=xB(There is no difference in student performance between the two teaching methods)\n",
    "H1:xA= xB(There is a difference in student performance between the two teaching methods)\n",
    "\n",
    "We'll use a two-sample t-test with the formula:\n",
    "t = (x̄₁ - x̄₂) / (s₁²/n₁ + s₂²/n₂)^(1/2)\n",
    "where:\n",
    "x̄₁ and x̄₂ are the sample means of Sample A and Sample B, respectively\n",
    "s₁² and s₂² are the sample variances of Sample A and Sample B, respectively\n",
    "n is the sample size of both Sample A and Sample B (assuming they are equal)\n",
    "\n",
    "t = (x̄₁ - x̄₂) / (s₁²/n + s₂²/n)^(1/2)\n",
    "t = (85 - 82) / ((6²/n) + (5²/n))^(1/2)\n",
    "t = 3 / ((36/n) + (25/n))^(1/2)\n",
    "t = 3 / (61/n)^(1/2)\n",
    "t = 3 / (sqrt(61/n))\n",
    "\n",
    "Yes, that is correct. At a significance level of α = 0.01 and assuming a sample size of n = 10, the critical t-value for a two-tailed test with 9 degrees of freedom (df = n - 1) is approximately ±3.250. This means that if the calculated t-score falls outside of the range of -3.250 to 3.250, we can reject the null hypothesis at the 0.01 significance level.\n"
   ]
  },
  {
   "cell_type": "code",
   "execution_count": null,
   "id": "a355f3ca-1e16-494b-a854-6bd47991af4d",
   "metadata": {},
   "outputs": [],
   "source": [
    "#Q13. A population has a mean of 60 and a standard deviation of 8. A sample of 50 observations has a mean of 65. Calculate the 90% confidence interval for the true population mean.\n",
    "\n",
    "To calculate the 90% confidence interval for the true population mean based on a sample of 50 observations, we can use the following formula:\n",
    "CI = x̄ ± z*(σ/√n)\n",
    "where CI is the confidence interval, x̄ is the sample mean (65), z is the z-score for a 90% confidence level (1.645), σ is the population standard deviation (8), and n is the sample size (50).\n",
    "Plugging in the values, we get:\n",
    "CI = 65 ± 1.645*(8/√50)\n",
    "CI = (63.02, 66.98)\n",
    "Therefore, we can say with 90% confidence that the true population mean is between 63.02 and 66.98 based on the sample of 50 observations."
   ]
  },
  {
   "cell_type": "code",
   "execution_count": null,
   "id": "31da0e97-7d58-4a0a-b090-e187bc8c7e4b",
   "metadata": {},
   "outputs": [],
   "source": [
    "#Q14. In a study of the effects of caffeine on reaction time, a sample of 30 participants had an average reaction time of 0.25 seconds with a standard deviation of 0.05 seconds. Conduct a hypothesis test to determine if the caffeine has a significant effect on reaction time at a 90% confidence level using a t-test.\n",
    "\n",
    "Using a one-sample t-test with a 90% confidence level, we find that the critical t-value for a two-tailed test with 29 degrees of freedom is approximately ±1.699. The calculated t-score for the sample of 30 participants with an average reaction time of 0.25 seconds and a standard deviation of 0.05 seconds is 1.2 - 6μ. We reject the null hypothesis if the population mean reaction time without caffeine is less than 0.0172 seconds or greater than 0.2828 seconds. However, since the population mean reaction time without caffeine is unknown, we cannot make a definitive conclusion about the effect of caffeine on reaction time."
   ]
  }
 ],
 "metadata": {
  "kernelspec": {
   "display_name": "Python 3 (ipykernel)",
   "language": "python",
   "name": "python3"
  },
  "language_info": {
   "codemirror_mode": {
    "name": "ipython",
    "version": 3
   },
   "file_extension": ".py",
   "mimetype": "text/x-python",
   "name": "python",
   "nbconvert_exporter": "python",
   "pygments_lexer": "ipython3",
   "version": "3.12.1"
  }
 },
 "nbformat": 4,
 "nbformat_minor": 5
}
