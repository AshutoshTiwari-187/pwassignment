{
 "cells": [
  {
   "cell_type": "code",
   "execution_count": 1,
   "id": "c0fd9807",
   "metadata": {},
   "outputs": [],
   "source": [
    "#Q1. What is a database? Differentiate between SQL and NoSQL databases.\n",
    "#A database is an organized collection of structured information, or data, typically stored electronically in a computer system.\n",
    "#SQL databases are vertically scalable, while NoSQL databases are horizontally scalable. SQL databases are table-based, while NoSQL databases are document, key-value, graph, or wide-column stores. SQL databases are better for multi-row transactions, while NoSQL is better for unstructured data like documents or JSON.\n"
   ]
  },
  {
   "cell_type": "code",
   "execution_count": null,
   "id": "b4bc6047",
   "metadata": {},
   "outputs": [],
   "source": [
    "#Q2. What is DDL? Explain why CREATE, DROP, ALTER, and TRUNCATE are used with an example.\n",
    "#A data definition language (DDL) is a computer language used to create and modify the structure of database objects in a database.\n",
    "#CREATE is a DDL command in DBMS that is used to create tables or databases.\n",
    "CREATE table test\n",
    "\n",
    "(\n",
    "\n",
    "Column1 VARCHAR (23),\n",
    "\n",
    "column2 INT,\n",
    "\n",
    ".\n",
    "\n",
    ".\n",
    "\n",
    "columnN FLOAT(34)\n",
    "\n",
    ");\n",
    "\n",
    "#The DROP TABLE command deletes a table in the database.\n",
    "DROP TABLE table_name;\n",
    "\n",
    "#The ALTER TABLE statement is used to add, delete, or modify columns in an existing table.\n",
    "ALTER TABLE test\n",
    "ADD column1 CHAR;\n",
    "\n",
    "#The TRUNCATE TABLE command deletes the data inside a table, but not the table itself.\n",
    "TRUNCATE TABLE Categories;"
   ]
  },
  {
   "cell_type": "code",
   "execution_count": null,
   "id": "62b295c2",
   "metadata": {},
   "outputs": [],
   "source": [
    "#Q3. What is DML? Explain INSERT, UPDATE, and DELETE with an example.\n",
    "\n",
    "#A data manipulation language (DML) is a family of computer languages including commands permitting users to manipulate data in a database.\n",
    "\n",
    "#The SQL INSERT INTO Statement is used to add new rows of data to a table in the database.\n",
    "\n",
    "INSERT INTO table2\n",
    "\n",
    "#The UPDATE statement is used to modify the existing records in a table.\n",
    "\n",
    "UPDATE table_name\n",
    "\n",
    "#The DELETE statement is used to delete existing records in a table.\n",
    "\n",
    "DELETE FROM table_name WHERE condition\n",
    "\n"
   ]
  },
  {
   "cell_type": "code",
   "execution_count": null,
   "id": "2d490c7e",
   "metadata": {},
   "outputs": [],
   "source": [
    "#Q4. What is DQL? Explain SELECT with an example.\n",
    "\n",
    "# Data Query Languages, are computer languages that are used to make various queries in information systems and databases. \n",
    "\n",
    "SELECT Stu_Name FROM Student WHERE Phone = 9039462908;\n",
    "\n",
    "The command given above would select the record from the table ‘Student’ where the phone number is ‘9039462908’\n"
   ]
  },
  {
   "cell_type": "code",
   "execution_count": 2,
   "id": "7b04a167",
   "metadata": {},
   "outputs": [],
   "source": [
    "#Q5. Explain Primary Key and Foreign Key.\n",
    "\n",
    "#A primary key generally focuses on the uniqueness of the table. It assures the value in the specific column is unique. A foreign key is generally used to build a relationship between the two tables. The table allows only one primary key."
   ]
  },
  {
   "cell_type": "code",
   "execution_count": null,
   "id": "89f5e8cd",
   "metadata": {},
   "outputs": [],
   "source": [
    "#Q6. Write a python code to connect MySQL to python. Explain the cursor() and execute() method.\n",
    "import mysql.connector\n",
    "mydb = mysql.connector.connect(\n",
    "  host=\"localhost\",\n",
    "  user=\"abc\",\n",
    "  password=\"password\"\n",
    ")\n",
    "mycursor = mydb.cursor()\n",
    "mycursor.execute(\"CREATE DATABASE if not exists test2\")\n",
    "mydb.close()\n",
    "\n",
    "#Cursor objects interact with the MySQL server using a MySQLConnection object.\n",
    "\n",
    "#You can use this function to create tables, insert records, modify records, and delete records in your PostgreSQL database."
   ]
  },
  {
   "cell_type": "code",
   "execution_count": null,
   "id": "38668678",
   "metadata": {},
   "outputs": [],
   "source": [
    "#Q7. Give the order of execution of SQL clauses in an SQL query.\n",
    "\n",
    "#The SQL order of execution defines the order in which the clauses of a query are evaluated. Understanding query order can help you optimize your queries."
   ]
  },
  {
   "cell_type": "code",
   "execution_count": null,
   "id": "c90513a9",
   "metadata": {},
   "outputs": [],
   "source": []
  }
 ],
 "metadata": {
  "kernelspec": {
   "display_name": "Python 3 (ipykernel)",
   "language": "python",
   "name": "python3"
  },
  "language_info": {
   "codemirror_mode": {
    "name": "ipython",
    "version": 3
   },
   "file_extension": ".py",
   "mimetype": "text/x-python",
   "name": "python",
   "nbconvert_exporter": "python",
   "pygments_lexer": "ipython3",
   "version": "3.11.1"
  }
 },
 "nbformat": 4,
 "nbformat_minor": 5
}
