{
 "cells": [
  {
   "cell_type": "code",
   "execution_count": 1,
   "id": "b1ef442a",
   "metadata": {},
   "outputs": [],
   "source": [
    "#Q1. What is an API? Give an example, where an API is used in real life.\n",
    "\n",
    "#An application programming interface is a way for two or more computer programs to communicate with each other.\n",
    "#Example of API ios PayPal.\n",
    "#In real life the is used in google maps"
   ]
  },
  {
   "cell_type": "code",
   "execution_count": 2,
   "id": "9ab092c7",
   "metadata": {},
   "outputs": [],
   "source": [
    "#Q2. Give advantages and disadvantages of using API.\n",
    "#ADVANTAGE\n",
    "#The major benefit of using an API is accessing and consuming data and services from thousands of independent sources.\n",
    "#DISADVANTAGE\n",
    "#Complexity, API can be complex, requiring a significant amount of development effort to implement and maintain"
   ]
  },
  {
   "cell_type": "code",
   "execution_count": 4,
   "id": "496b67dd",
   "metadata": {},
   "outputs": [],
   "source": [
    "#Q3. What is a Web API? Differentiate between API and Web API.\n",
    "#Web API is an application programming interface for the Web. A Browser API can extend the functionality of a web browser. A Server API can extend the functionality of a web server.\n",
    "#The API is created with the help of the TCP/IP are called as the API , and this API is used in offline device to transfer information from one place to another place in same device.\n",
    "#The API is created with the help of HTTP is called as the web API ,and in this API we tranfer data over internet from one IP adddress to another IP address ."
   ]
  },
  {
   "cell_type": "code",
   "execution_count": 5,
   "id": "9ec2332d",
   "metadata": {},
   "outputs": [],
   "source": [
    "#Q4. Explain REST and SOAP Architecture. Mention shortcomings of SOAP.\n",
    "#Representational state transfer is a software architectural style that was created to guide the design and development of the architecture for the World Wide Web.\n",
    "#Simple Object Access Protocol (SOAP) is a lightweight XML-based protocol that is used for the exchange of information in decentralized, distributed application environments.\n",
    "#As SOAP can only transfer messages as XML files, your SOAP API will be less performant, as XML is a verbose format compared to JSON."
   ]
  },
  {
   "cell_type": "code",
   "execution_count": 6,
   "id": "3d854e4c",
   "metadata": {},
   "outputs": [],
   "source": [
    "#Q5. Differentiate between REST and SOAP.\n",
    "#SOAP and REST are two different approaches to API design. The SOAP approach is highly structured and uses XML data format.\n",
    "#REST is more flexible and allows applications to exchange data in multiple formats."
   ]
  },
  {
   "cell_type": "code",
   "execution_count": null,
   "id": "7df26fca",
   "metadata": {},
   "outputs": [],
   "source": []
  }
 ],
 "metadata": {
  "kernelspec": {
   "display_name": "Python 3 (ipykernel)",
   "language": "python",
   "name": "python3"
  },
  "language_info": {
   "codemirror_mode": {
    "name": "ipython",
    "version": 3
   },
   "file_extension": ".py",
   "mimetype": "text/x-python",
   "name": "python",
   "nbconvert_exporter": "python",
   "pygments_lexer": "ipython3",
   "version": "3.11.1"
  }
 },
 "nbformat": 4,
 "nbformat_minor": 5
}
