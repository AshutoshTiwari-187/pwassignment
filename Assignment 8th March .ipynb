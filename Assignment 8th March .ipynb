{
 "cells": [
  {
   "cell_type": "code",
   "execution_count": 1,
   "id": "e672f5f6",
   "metadata": {},
   "outputs": [],
   "source": [
    "#what is probability density function?\n",
    "#A probability density function (PDF) is a statistical function that describes the likelihood of a continuous random variable falling within a particular range of values."
   ]
  },
  {
   "cell_type": "code",
   "execution_count": 2,
   "id": "515ea5a5",
   "metadata": {},
   "outputs": [],
   "source": [
    "#Q2. What are the types of Probability distribution?\n",
    "#Thier are 6 Types of probability distribution\n",
    "#1>Normal & Gussian Distribution\n",
    "#2>Bernouli Distribution\n",
    "#3>Uniform Distribution\n",
    "#4>Poission Distribution\n",
    "#5>Binomial Distribution"
   ]
  },
  {
   "cell_type": "code",
   "execution_count": 3,
   "id": "fbac65c3",
   "metadata": {},
   "outputs": [],
   "source": [
    "#Q3. Write a Python function to calculate the probability density function of a normal distribution with given mean and standard deviation at a given point.\n",
    "#To calculate the probability density function (PDF) of a normal distribution at a given point using Python, you can use the scipy.stats.norm module."
   ]
  },
  {
   "cell_type": "code",
   "execution_count": 5,
   "id": "b735991f",
   "metadata": {},
   "outputs": [],
   "source": [
    "#Q4. What are the properties of Binomial distribution? Give two examples of events where binomial distribution can be applied.\n",
    "#The binomial distribution is a discrete probability distribution that models the number of successes in a fixed number of independent and identical Bernoulli trials, each with two possible outcomes (success or failure) and a constant probability of success.\n",
    "#Examples are ->Flipping a coin., And the second example are-Rolling a dice .\n"
   ]
  },
  {
   "cell_type": "code",
   "execution_count": 6,
   "id": "d385f87e",
   "metadata": {
    "scrolled": true
   },
   "outputs": [
    {
     "data": {
      "image/png": "[encoded data removed]",
      "text/plain": [
       "<Figure size 640x480 with 1 Axes>"
      ]
     },
     "metadata": {},
     "output_type": "display_data"
    }
   ],
   "source": [
    "#Q5. Generate a random sample of size 1000 from a binomial distribution with probability of success 0.4 and plot a histogram of the results using matplotlib.\n",
    "import numpy as np\n",
    "import matplotlib.pyplot as plt\n",
    "\n",
    "# Set the seed for reproducibility\n",
    "np.random.seed(42)\n",
    "\n",
    "# Generate a random sample of size 1000 from a binomial distribution\n",
    "sample_size = 1000\n",
    "probability_of_success = 0.4\n",
    "random_sample = np.random.binomial(n=1, p=probability_of_success, size=sample_size)\n",
    "\n",
    "# Plot the histogram\n",
    "plt.hist(random_sample, bins=[-0.5, 0.5, 1.5], edgecolor='black', align='mid', rwidth=0.8)\n",
    "plt.title('Binomial Distribution - Random Sample')\n",
    "plt.xlabel('Outcome (0: Failure, 1: Success)')\n",
    "plt.ylabel('Frequency')\n",
    "plt.show()\n"
   ]
  },
  {
   "cell_type": "code",
   "execution_count": 1,
   "id": "bade3f48",
   "metadata": {},
   "outputs": [
    {
     "name": "stdout",
     "output_type": "stream",
     "text": [
      "The CDF at 2 for Poisson(mean=3) is: 0.42319008112684364\n"
     ]
    }
   ],
   "source": [
    "#Q6. Write a Python function to calculate the cumulative distribution function of a Poisson distribution with given mean at a given point.\n",
    "#To calculate the cumulative distribution function (CDF) of a Poisson distribution at a given point using Python, you can use the scipy.stats.poisson module.\n",
    "from scipy.stats import poisson\n",
    "\n",
    "def poisson_cdf(mean, x):\n",
    "    \"\"\"\n",
    "    Calculate the cumulative distribution function (CDF) of a Poisson distribution at a given point.\n",
    "\n",
    "    Parameters:\n",
    "    - mean (float): Mean of the Poisson distribution.\n",
    "    - x (int): Point at which to calculate the CDF.\n",
    "\n",
    "    Returns:\n",
    "    - cdf_value (float): CDF value at the given point.\n",
    "    \"\"\"\n",
    "    cdf_value = poisson.cdf(x, mu=mean)\n",
    "    return cdf_value\n",
    "\n",
    "# Example usage:\n",
    "mean = 3\n",
    "point = 2\n",
    "\n",
    "cdf_result = poisson_cdf(mean, point)\n",
    "print(f\"The CDF at {point} for Poisson(mean={mean}) is: {cdf_result}\")\n"
   ]
  },
  {
   "cell_type": "code",
   "execution_count": 2,
   "id": "7ef022ad",
   "metadata": {},
   "outputs": [],
   "source": [
    "#Q7. How Binomial distribution different from Poisson distribution?\n",
    "#The binomial distribution is used when there is a fixed number of trials, each with a binary outcome.\n",
    "#The Poisson distribution is used when the number of events in a fixed interval follows a certain average rate."
   ]
  },
  {
   "cell_type": "code",
   "execution_count": 4,
   "id": "7a5fc7ef",
   "metadata": {},
   "outputs": [
    {
     "name": "stdout",
     "output_type": "stream",
     "text": [
      "Sample Mean: 4.985\n",
      "Sample Variance: 5.001776776776777\n"
     ]
    }
   ],
   "source": [
    "#Q8. Generate a random sample of size 1000 from a Poisson distribution with mean 5 and calculate the sample mean and variance.\n",
    "\n",
    "import numpy as np\n",
    "\n",
    "# Set the seed for reproducibility\n",
    "np.random.seed(42)\n",
    "\n",
    "# Generate a random sample of size 1000 from a Poisson distribution with mean 5\n",
    "sample_size = 1000\n",
    "mean_value = 5\n",
    "random_sample = np.random.poisson(lam=mean_value, size=sample_size)\n",
    "\n",
    "# Calculate the sample mean and variance\n",
    "sample_mean = np.mean(random_sample)\n",
    "sample_variance = np.var(random_sample, ddof=1)  # ddof=1 for sample variance\n",
    "\n",
    "print(f\"Sample Mean: {sample_mean}\")\n",
    "print(f\"Sample Variance: {sample_variance}\")\n"
   ]
  },
  {
   "cell_type": "code",
   "execution_count": 5,
   "id": "549566b0",
   "metadata": {},
   "outputs": [],
   "source": [
    "#Q9. How mean and variance are related in Binomial distribution and Poisson distribution?\n",
    "#In the binomial distribution, the variance depends on both the number of trials (n) and the probability of success (p).\n",
    "#In the Poisson distribution, the variance is solely determined by the mean (λ), and the mean and variance are equal.\n",
    " "
   ]
  },
  {
   "cell_type": "code",
   "execution_count": 6,
   "id": "f8e79958",
   "metadata": {},
   "outputs": [],
   "source": [
    "#Q10. In normal distribution with respect to mean position, where does the least frequent data appear?\n",
    "#In normal distribution also known as Gussian Distribution the least frequent data appears at the tail position of the bell curve ,we can also say the the fathest position from the mean in the bell curve is the position where the least frequent data apppers."
   ]
  },
  {
   "cell_type": "code",
   "execution_count": null,
   "id": "f6473815",
   "metadata": {},
   "outputs": [],
   "source": []
  }
 ],
 "metadata": {
  "kernelspec": {
   "display_name": "Python 3 (ipykernel)",
   "language": "python",
   "name": "python3"
  },
  "language_info": {
   "codemirror_mode": {
    "name": "ipython",
    "version": 3
   },
   "file_extension": ".py",
   "mimetype": "text/x-python",
   "name": "python",
   "nbconvert_exporter": "python",
   "pygments_lexer": "ipython3",
   "version": "3.11.1"
  }
 },
 "nbformat": 4,
 "nbformat_minor": 5
}
