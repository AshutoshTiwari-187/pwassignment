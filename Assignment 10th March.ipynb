{
 "cells": [
  {
   "cell_type": "code",
   "execution_count": null,
   "id": "be4e94aa-4e7a-4803-b60d-87037aa51c52",
   "metadata": {},
   "outputs": [],
   "source": [
    " #Q1: What is Estimation Statistics? Explain point estimate and interval estimate.\n",
    "Estimation statistics involves the process of obtaining the values of unknown population parameters based on sample data. There are two main types of estimates: point estimates and interval estimates.\n",
    "Point Estimate: This is a single value estimate of a parameter. For example, a sample mean is a point estimate of a population mean.\n",
    "Interval Estimate: This provides a range of values where the parameter is expected to lie. A confidence interval is the most common type of interval estimate."
   ]
  },
  {
   "cell_type": "code",
   "execution_count": null,
   "id": "9cd29df6-7bbf-4d5b-81f1-4cdf0cec7dc4",
   "metadata": {},
   "outputs": [],
   "source": [
    "#Q2. Write a Python function to estimate the population mean using a sample mean and standard deviation.\n",
    "To estimate the population mean using a sample mean and standard deviation in Python, you can use the following function:\n",
    "import math\n",
    "\n",
    "def estimate_population_mean(sample_mean, sample_std, sample_size):\n",
    "    margin_of_error = sample_std / math.sqrt(sample_size)\n",
    "    return (sample_mean - margin_of_error, sample_mean + margin_of_error)"
   ]
  },
  {
   "cell_type": "code",
   "execution_count": null,
   "id": "711c6a42-30a2-460a-8e44-c2aa27388857",
   "metadata": {},
   "outputs": [],
   "source": [
    "#Q3: What is Hypothesis testing? Why is it used? State the importance of Hypothesis testing.\n",
    "Hypothesis testing is a statistical method used to test an assumption regarding a population parameter. It is a systematic procedure for deciding whether the results of a research study are statistically significant. \n",
    "Hypothesis testing is used to determine if an observed phenomenon is likely to have occurred by chance and is a systematic procedure for deciding whether the results of a research study are statistically significant. It allows researchers to test their theories and assumptions before making decisions or drawing conclusions\n",
    "Hypothesis testing is important as it provides a framework for making evidence-based decisions, adds rigor to research, and contributes to the advancement of knowledge in various fields."
   ]
  },
  {
   "cell_type": "code",
   "execution_count": null,
   "id": "c7bee6e8-9c66-4b1f-9d61-28859d0a1a23",
   "metadata": {},
   "outputs": [],
   "source": [
    "#Q4. Create a hypothesis that states whether the average weight of male college students is greater than the average weight of female college students.\n",
    "The hypothesis that states whether the average weight of male college students is greater than the average weight of female college students can be formulated as follows:\n",
    "Null Hypothesis (H0): The average weight of male college students is equal to or less than the average weight of female college students.\n",
    "H0: μ_male <= μ_female\n",
    "Alternative Hypothesis (H1): The average weight of male college students is greater than the average weight of female college students.\n",
    "H1: μ_male > μ_female\n",
    "In this hypothesis, μ_male represents the average weight of male college students, and μ_female represents the average weight of female college students. This hypothesis can be tested using appropriate statistical methods and data collection techniques."
   ]
  },
  {
   "cell_type": "code",
   "execution_count": null,
   "id": "463682a8-3129-49dc-aefb-868c4816b2de",
   "metadata": {},
   "outputs": [],
   "source": [
    "#Q5. Write a Python script to conduct a hypothesis test on the difference between two population means, given a sample from each population.\n",
    "from scipy import stats\n",
    "\n",
    "# Assuming you have two sample arrays: sample1 and sample2\n",
    "# Conduct independent t-test\n",
    "t_stat, p_value = stats.ttest_ind(sample1, sample2)\n",
    "\n",
    "# Print the results\n",
    "alpha = 0.05  # Set the significance level\n",
    "if p_value < alpha:\n",
    "    print(\"Reject the null hypothesis; there is a significant difference between the two population means.\")\n",
    "else:\n",
    "    print(\"Fail to reject the null hypothesis; there is no significant difference between the two population means.\")"
   ]
  },
  {
   "cell_type": "code",
   "execution_count": null,
   "id": "ae6d73b5-cfb4-4833-914a-b3858d81c5b1",
   "metadata": {},
   "outputs": [],
   "source": [
    "#Q6: What is a null and alternative hypothesis? Give some examples.\n",
    "A null hypothesis (H0) is a statement that there is no effect or no relationship between variables in the population. It represents the status quo or the default assumption that there is no difference or no change. On the other hand, an alternative hypothesis (H1 or Ha) is a statement that contradicts the null hypothesis and suggests that there is an effect or a relationship in the population.\n",
    "Here are some examples of null and alternative hypotheses:\n",
    "Example 1:\n",
    "Null Hypothesis (H0): The average height of men is equal to the average height of women.\n",
    "Alternative Hypothesis (H1): The average height of men is different from the average height of women."
   ]
  },
  {
   "cell_type": "code",
   "execution_count": null,
   "id": "b508836e-4216-4efa-af1f-0fb878203a82",
   "metadata": {},
   "outputs": [],
   "source": [
    "#Q7: Write down the steps involved in hypothesis testing.\n",
    "1.State the Hypotheses\n",
    "2.Choose the Significance Level (α)\n",
    "3.Select the Test Statistic\n",
    "4.Collect Data and Calculate the Test Statistic\n",
    "5.Determine the Critical Region\n",
    "6.Make a Decision\n",
    "7.Draw a Conclusion\n",
    "8.Interpretation\n",
    "9.Report Results"
   ]
  },
  {
   "cell_type": "code",
   "execution_count": null,
   "id": "e62a353b-4341-438f-87ae-8987bb86eb2c",
   "metadata": {},
   "outputs": [],
   "source": [
    "#Q8. Define p-value and explain its significance in hypothesis testing.\n",
    "The p-value in hypothesis testing is the probability of observing a test statistic as extreme as, or more extreme than, the one calculated from the sample data, assuming that the null hypothesis is true. In simpler terms, the p-value quantifies the strength of the evidence against the null hypothesis.\n",
    "Here's an explanation of its significance:\n",
    "\n",
    "1.Interpretation:\n",
    "If the p-value is small (typically less than the chosen significance level α), it suggests that the observed data are unlikely to occur if the null hypothesis is true. This leads to the rejection of the null hypothesis in favor of the alternative hypothesis.\n",
    "If the p-value is large (greater than or equal to α), it suggests that the observed data are consistent with the null hypothesis. In this case, there is insufficient evidence to reject the null hypothesis.\n",
    "2.Decision-making:\n",
    "The p-value serves as a crucial component in the decision-making process of hypothesis testing. If the p-value is smaller than the predetermined significance level (α), the null hypothesis is rejected.\n",
    "Conversely, if the p-value is greater than or equal to α, the null hypothesis is not rejected.\n",
    "3.Determining Statistical Significance:\n",
    "The p-value provides a measure of the statistical significance of the results. A smaller p-value indicates stronger evidence against the null hypothesis, suggesting that the observed effect is statistically significant.\n",
    "Conversely, a larger p-value indicates weaker evidence against the null hypothesis and suggests that the observed effect may be due to random variation rather than a true effect.\n",
    "4.Effect Size and Power:\n",
    "While the p-value indicates whether an effect exists, it does not provide information about the size or practical significance of the effect. Effect size measures the magnitude of the difference between groups or the strength of the relationship between variables."
   ]
  },
  {
   "cell_type": "code",
   "execution_count": null,
   "id": "895e7994-8511-4ef5-9f45-a5a73b599846",
   "metadata": {},
   "outputs": [],
   "source": [
    "#Q9. Generate a Student's t-distribution plot using Python's matplotlib library, with the degrees of freedom parameter set to 10.\n",
    "import numpy as np\n",
    "import matplotlib.pyplot as plt\n",
    "from scipy.stats import t\n",
    "\n",
    "# Define the degrees of freedom\n",
    "df = 10\n",
    "\n",
    "# Generate x values for the plot\n",
    "x = np.linspace(-4, 4, 1000)\n",
    "\n",
    "# Calculate the corresponding y values from the t-distribution\n",
    "y = t.pdf(x, df)\n",
    "\n",
    "# Plot the t-distribution\n",
    "plt.plot(x, y, label=f\"Student's t-distribution (df={df})\")\n",
    "plt.title(\"Student's t-distribution\")\n",
    "plt.xlabel('x')\n",
    "plt.ylabel('Probability Density Function')\n",
    "plt.legend()\n",
    "plt.grid(True)\n",
    "plt.show()\n"
   ]
  },
  {
   "cell_type": "code",
   "execution_count": null,
   "id": "88d9a436-61a5-49be-9416-4a3c469b94d2",
   "metadata": {},
   "outputs": [],
   "source": [
    "#Q10. Write a Python program to calculate the two-sample t-test for independent samples, given two random samples of equal size and a null hypothesis that the population means are equal.\n",
    "import numpy as np\n",
    "from scipy.stats import ttest_ind\n",
    "\n",
    "# Generate two random samples of equal size\n",
    "sample1 = np.random.normal(loc=5, scale=2, size=100)\n",
    "sample2 = np.random.normal(loc=5.5, scale=2.5, size=100)\n",
    "\n",
    "# Perform the two-sample t-test\n",
    "t_statistic, p_value = ttest_ind(sample1, sample2)\n",
    "\n",
    "# Print the results\n",
    "print(\"Two-Sample T-Test Results:\")\n",
    "print(f\"T-statistic: {t_statistic}\")\n",
    "print(f\"P-value: {p_value}\")\n",
    "\n",
    "# Interpret the results\n",
    "alpha = 0.05\n",
    "if p_value < alpha:\n",
    "    print(\"Reject the null hypothesis: There is significant evidence that the population means are not equal.\")\n",
    "else:\n",
    "    print(\"Fail to reject the null hypothesis: There is not enough evidence to conclude that the population means are different.\")\n"
   ]
  },
  {
   "cell_type": "code",
   "execution_count": null,
   "id": "bf40bb6a-8780-4fef-a0be-d2b6cd38013a",
   "metadata": {},
   "outputs": [],
   "source": [
    "#Q11: What is Student’s t distribution? When to use the t-Distribution.\n",
    "\n",
    "Student's t-distribution, often referred to simply as the t-distribution, is a probability distribution that arises in the estimation of the mean of a normally distributed population when the sample size is small or the population standard deviation is unknown.\n",
    "\n",
    "The t-distribution is used when dealing with small sample sizes (typically n < 30) or when the population standard deviation is unknown. It is employed for constructing confidence intervals and conducting hypothesis tests involving population means. The t-distribution accommodates the additional variability introduced by using the sample standard deviation as an estimate of the population standard deviation."
   ]
  },
  {
   "cell_type": "code",
   "execution_count": null,
   "id": "4f7c053c-19f4-4ad5-a3e6-464bebf95673",
   "metadata": {},
   "outputs": [],
   "source": [
    "#Q12: What is t-statistic? State the formula for t-statistic.\n",
    "The t-statistic is a measure used in hypothesis testing to assess the difference between the mean of a sample and the hypothesized population mean, when the population standard deviation is unknown and must be estimated from the sample.\n",
    "\n",
    "The formula for the t-statistic when comparing the mean of a sample to a hypothesized population mean is:\n",
    "t=x-i/s*(n)^1/2\n",
    "x is the sample mean"
   ]
  },
  {
   "cell_type": "code",
   "execution_count": null,
   "id": "132c3fc8-10da-41c3-b842-aee2a80d3d69",
   "metadata": {},
   "outputs": [],
   "source": [
    "#Q13. A coffee shop owner wants to estimate the average daily revenue for their shop. They take a random sample of 50 days and find the sample mean revenue to be $500 with a standard deviation of $50. Estimate the population mean revenue with a 95% confidence interval.\n",
    "To estimate the population mean revenue with a 95% confidence interval, we can use the formula for the confidence interval for the population mean when the population standard deviation (σ) is known:\n",
    "\n",
    "Confidence Interval=x±Z(σ/(n)^1/2)\n",
    "Where:\n",
    " x is the sample mean revenue,\n",
    "Z is the Z-score corresponding to the desired confidence level (95% confidence level corresponds to \n",
    "Z=1.96),\n",
    "σ is the population standard deviation,\n",
    "n is the sample size.\n",
    "Given:\n",
    "Sample mean(x)= $500,\n",
    "Population standard deviation (σ) = $50,\n",
    "Sample size (n) = 50,\n",
    "Z-score for a 95% confidence level (Z) = 1.96.\n",
    "Now, let's calculate the confidence interval:\n",
    "Confidence Interval=500±1.96(50/(50)^1/2)\n",
    "Confidence Interval=500±1.96(50/(50)^1/2)\n",
    "Confidence Interval=500±1.96×7.07\n",
    "Confidence Interval=500±1.96×7.07\n",
    "\n",
    "Confidence Interval=500±13.84\n",
    "\n",
    "So, the 95% confidence interval for the population mean revenue is approximately $486.16 to $513.84."
   ]
  },
  {
   "cell_type": "code",
   "execution_count": null,
   "id": "fbdc3c73-6346-4ec2-a11f-3ab7e446c02e",
   "metadata": {},
   "outputs": [],
   "source": [
    "#Q14. A researcher hypothesizes that a new drug will decrease blood pressure by 10 mmHg. They conduct a clinical trial with 100 patients and find that the sample mean decrease in blood pressure is 8 mmHg with a standard deviation of 3 mmHg. Test the hypothesis with a significance level of 0.05.\n",
    "\n",
    "To test the researcher's hypothesis, we can use a one-sample t-test. The null hypothesis (H0) is that the mean decrease in blood pressure is not significantly different from 10 mmHg, while the alternative hypothesis (H1) is that the mean decrease is less than 10 mmHg.\n",
    "The formula for the t-test is:\n",
    "t = (x̄ - μ) / (s / √n)\n",
    "Where:\n",
    "x̄ = sample mean\n",
    "μ = hypothesized mean\n",
    "s = sample standard deviation\n",
    "n = sample size\n",
    "Plugging in the given values:\n",
    "x̄ = 8 mmHg, μ = 10 mmHg, s = 3 mmHg, n = 100\n",
    "t = (8 - 10) / (3 / √100)\n",
    "t = -2 / (3/10)\n",
    "t = -2 / 0.3\n",
    "t = -6.67\n",
    "To test the hypothesis at a significance level of 0.05, we compare the calculated t-value to the critical t-value. With 99 degrees of freedom (n-1), the critical t-value for a one-tailed test at α = 0.05 is approximately -1.660.\n",
    "Since the calculated t-value (-6.67) is less than the critical t-value (-1.660), we reject the null hypothesis. This means that there is sufficient evidence to conclude that the new drug decreases blood pressure by less than 10 mmHg at a significance level of 0.05."
   ]
  },
  {
   "cell_type": "code",
   "execution_count": null,
   "id": "c7360783-fcdd-422a-b8b0-695939f17c6d",
   "metadata": {},
   "outputs": [],
   "source": [
    "#Q15. An electronics company produces a certain type of product with a mean weight of 5 pounds and astandard deviation of 0.5 pounds. A random sample of 25 products is taken, and the sample mean weight is found to be 4.8 pounds. Test the hypothesis that the true mean weight of the products is less than 5 pounds with a significance level of 0.01.\n",
    "\n",
    "To test the hypothesis that the true mean weight of the products is less than 5 pounds, we can use a one-sample t-test. The null hypothesis (H0) is that the mean weight is not significantly different from 5 pounds, while the alternative hypothesis (H1) is that the mean weight is less than 5 pounds.\n",
    "The formula for the t-test is:\n",
    "t = (x̄ - μ) / (s / √n)\n",
    "Where:\n",
    "x̄ = sample mean\n",
    "μ = hypothesized mean\n",
    "s = sample standard deviation\n",
    "n = sample size\n",
    "Plugging in the given values:\n",
    "x̄ = 4.8 pounds, μ = 5 pounds, s = 0.5 pounds, n = 25\n",
    "t = (4.8 - 5) / (0.5 / √25)\n",
    "t = -0.2 / 0.1\n",
    "t = -2\n",
    "To test the hypothesis at a significance level of 0.01, we compare the calculated t-value to the critical t-value. With 24 degrees of freedom (n-1), the critical t-value for a one-tailed test at α = 0.01 is approximately -2.492.\n",
    "Since the calculated t-value (-2) is greater than the critical t-value (-2.492), we fail to reject the null hypothesis. This means that there is not sufficient evidence to conclude that the true mean weight of the products is less than 5 pounds at a significance level of 0.01."
   ]
  },
  {
   "cell_type": "code",
   "execution_count": null,
   "id": "4a0dbc58-458a-4f22-8f55-884c7adfccd1",
   "metadata": {},
   "outputs": [],
   "source": [
    "#Q16. Two groups of students are given different study materials to prepare for a test. The first group (n1 =30) has a mean score of 80 with a standard deviation of 10, and the second group (n2 = 40) has a meanscore of 75 with a standard deviation of 8. Test the hypothesis that the population means for the two groups are equal with a significance level of 0.01.\n",
    "\n"
   ]
  },
  {
   "cell_type": "code",
   "execution_count": null,
   "id": "8d674ff6-462d-4aff-9d45-167de58651f2",
   "metadata": {},
   "outputs": [],
   "source": [
    "#Q17. A marketing company wants to estimate the average number of ads watched by viewers during a TV program. They take a random sample of 50 viewers and find that the sample mean is 4 with a standard deviation of 1.5. Estimate the population mean with a 99% confidence interval.\n",
    "\n",
    "To estimate the population mean with a 99% confidence interval, follow these steps:\n",
    "Calculate the margin of error (ME).\n",
    "ME = z * (σ / √n)\n",
    "Where:\n",
    "z = critical value corresponding to a desired confidence level (from the standard normal distribution); for 99%, z ≈ 2.576.\n",
    "σ = sample standard deviation (1.5 in this case).\n",
    "n = sample size (50 in this case).\n",
    "ME = 2.576 * (1.5 / √50)\n",
    "ME ≈ 0.352\n",
    "Find the lower limit (L) and upper limit (U) of the confidence interval.\n",
    "L = x̄ - ME\n",
    "U = x̄ + ME\n",
    "Plugging in the numbers:\n",
    "L = 4 - 0.352\n",
    "L ≈ 3.648\n",
    "U = 4 + 0.352\n",
    "U ≈ 4.352\n",
    "So, the 99% confidence interval for the average number of ads watched by viewers during the TV program is approximately (3.648, 4.352). Note that this interval provides an estimated range within which the true population mean is likely to lie with a high degree of confidence (99%).\n"
   ]
  }
 ],
 "metadata": {
  "kernelspec": {
   "display_name": "Python 3 (ipykernel)",
   "language": "python",
   "name": "python3"
  },
  "language_info": {
   "codemirror_mode": {
    "name": "ipython",
    "version": 3
   },
   "file_extension": ".py",
   "mimetype": "text/x-python",
   "name": "python",
   "nbconvert_exporter": "python",
   "pygments_lexer": "ipython3",
   "version": "3.12.1"
  }
 },
 "nbformat": 4,
 "nbformat_minor": 5
}
