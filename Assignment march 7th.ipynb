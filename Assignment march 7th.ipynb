{
 "cells": [
  {
   "cell_type": "code",
   "execution_count": 1,
   "id": "00b9fc7c",
   "metadata": {},
   "outputs": [],
   "source": [
    "#Q1. What are the three measures of central tendency?\n",
    "#Mean\n",
    "#Meadian\n",
    "#Mode"
   ]
  },
  {
   "cell_type": "code",
   "execution_count": null,
   "id": "0b3b3f2f",
   "metadata": {},
   "outputs": [],
   "source": [
    "#Q2. What is the difference between the mean, median, and mode? How are they used to measure the central tendency of a dataset?\n",
    "\n",
    "The mean, median, and mode are measures of central tendency used to describe the center or average of a set of data. They provide different perspectives on the typical or central value in a dataset.\n",
    "\n",
    "Mean:\n",
    "The mean, often referred to as the average, is calculated by adding up all the values in a dataset and then dividing the sum by the number of values.\n",
    "\n",
    "Median:\n",
    "The median is the middle value of a dataset when it is ordered from smallest to largest. If there is an even number of observations, the median is the average of the two middle values.\n",
    "\n",
    "Mode:\n",
    "The mode is the value that appears most frequently in a dataset."
   ]
  },
  {
   "cell_type": "code",
   "execution_count": null,
   "id": "a17aa00b",
   "metadata": {},
   "outputs": [],
   "source": [
    "#Q3. Measure the three measures of central tendency for the given height data:\n",
    "#  [178,177,176,177,178.2,178,175,179,180,175,178.9,176.2,177,172.5,178,176.5]\n",
    "Mean=177.02\n",
    "Median=177\n",
    "Mode=177,178"
   ]
  },
  {
   "cell_type": "code",
   "execution_count": 2,
   "id": "238e156a",
   "metadata": {},
   "outputs": [],
   "source": [
    "import numpy as np"
   ]
  },
  {
   "cell_type": "code",
   "execution_count": 3,
   "id": "1355d015",
   "metadata": {},
   "outputs": [
    {
     "data": {
      "text/plain": [
       "1.7885814036548633"
      ]
     },
     "execution_count": 3,
     "metadata": {},
     "output_type": "execute_result"
    }
   ],
   "source": [
    "#Q4. Find the standard deviation for the given data:\n",
    "a=[178,177,176,177,178.2,178,175,179,180,175,178.9,176.2,177,172.5,178,176.5]\n",
    "np.std(a)"
   ]
  },
  {
   "cell_type": "code",
   "execution_count": 4,
   "id": "1b3599a5",
   "metadata": {},
   "outputs": [],
   "source": [
    "#Q5. How are measures of dispersion such as range, variance, and standard deviation used to describe the spread of a dataset? Provide an example.\n",
    "#Measures of dispersion, including range, variance, and standard deviation, provide information about the spread or variability of a dataset. These measures help to quantify how much individual data points deviate from the central tendency (mean, median, or mode) and give a sense of how \"spread out\" the values are."
   ]
  },
  {
   "cell_type": "code",
   "execution_count": 5,
   "id": "2ea8a5f3",
   "metadata": {},
   "outputs": [],
   "source": [
    "#Q6. What is a Venn diagram?\n",
    "#A Venn diagram is a visual representation that illustrates the relationships and similarities between different sets or groups of items. It consists of overlapping circles, each representing a set, and the overlapping areas represent the elements that belong to more than one set. The purpose of a Venn diagram is to provide a clear and visual way of understanding the intersections and differences between sets."
   ]
  },
  {
   "cell_type": "code",
   "execution_count": 11,
   "id": "742878d9",
   "metadata": {},
   "outputs": [
    {
     "data": {
      "text/plain": [
       "array([2, 6])"
      ]
     },
     "execution_count": 11,
     "metadata": {},
     "output_type": "execute_result"
    }
   ],
   "source": [
    "#Q7. For the two given sets \n",
    "A = (2,3,4,5,6,7) \n",
    "B = (0,2,6,8,10)\n",
    "#(i) A intersection B\n",
    "np.intersect1d(A,B)"
   ]
  },
  {
   "cell_type": "code",
   "execution_count": 12,
   "id": "d37a8d9e",
   "metadata": {},
   "outputs": [
    {
     "data": {
      "text/plain": [
       "array([ 0,  2,  3,  4,  5,  6,  7,  8, 10])"
      ]
     },
     "execution_count": 12,
     "metadata": {},
     "output_type": "execute_result"
    }
   ],
   "source": [
    "#(ii)AUB\n",
    "np.union1d(A,B)"
   ]
  },
  {
   "cell_type": "code",
   "execution_count": 13,
   "id": "5e74c9a2",
   "metadata": {},
   "outputs": [],
   "source": [
    "#Q8. What do you understand about skewness in data?\n",
    "#Skewness is a measure of the asymmetry of a distribution. A distribution is asymmetrical when its left and right side are not mirror images."
   ]
  },
  {
   "cell_type": "code",
   "execution_count": 14,
   "id": "559afb64",
   "metadata": {},
   "outputs": [],
   "source": [
    "#Q9. If a data is right skewed then what will be the position of median with respect to mean?\n",
    "#Median is less then the mean"
   ]
  },
  {
   "cell_type": "code",
   "execution_count": 15,
   "id": "7a91ec99",
   "metadata": {},
   "outputs": [],
   "source": [
    "#Q10. Explain the difference between covariance and correlation. How are these measures used in statistical analysis?\n",
    "#Both covariance and correlation measure the relationship and the dependency between two variables. Covariance indicates the direction of the linear relationship between variables. Correlation measures both the strength and direction of the linear relationship between two variables. "
   ]
  },
  {
   "cell_type": "code",
   "execution_count": null,
   "id": "fdaff672",
   "metadata": {},
   "outputs": [],
   "source": [
    "#Q11. What is the formula for calculating the sample mean? Provide an example calculation for a dataset.\n",
    "\n",
    "sample mean = ( Σ xi ) / n\n",
    "#Example\n",
    "\n",
    "a=[10, 15, 12, 18, 20]\n",
    "Σ xi =10+15+12+18+20=75\n",
    "n=5\n",
    "\n",
    "sample mean=15"
   ]
  },
  {
   "cell_type": "code",
   "execution_count": 1,
   "id": "58b7d48e",
   "metadata": {},
   "outputs": [],
   "source": [
    "#Q12. For a normal distribution data what is the relationship between its measure of central tendency?\n",
    "#For a perfectly symmetric normal distribution, the mean, median, and mode are all equal and are located at the center of the distribution."
   ]
  },
  {
   "cell_type": "code",
   "execution_count": 2,
   "id": "6f95a371",
   "metadata": {},
   "outputs": [],
   "source": [
    "#Q13. How is covariance different from correlation?\n",
    "#While both covariance and correlation describe the relationship between two variables, correlation provides a more interpretable and standardized measure, making it particularly useful for comparing relationships between different pairs of variables."
   ]
  },
  {
   "cell_type": "code",
   "execution_count": null,
   "id": "4f99429b",
   "metadata": {},
   "outputs": [],
   "source": [
    "#Q14. How do outliers affect measures of central tendency and dispersion? Provide an example.\n",
    "#The outliers can distort measures of central tendency, particularly the mean, and can impact measures of dispersion, making them larger and potentially leading to an inaccurate representation of the overall characteristics of the dataset.\n",
    "\n",
    "Consider the dataset: [10, 15, 12, 18, 20, 200]. In this dataset, 200 is an outlier.\n",
    "so the mean=57.5\n",
    "And,if we change the the outlier with a valid value 25 the the ,\n",
    "mean=16.67\n",
    "so here we see the change with the presence by any outliers ."
   ]
  }
 ],
 "metadata": {
  "kernelspec": {
   "display_name": "Python 3 (ipykernel)",
   "language": "python",
   "name": "python3"
  },
  "language_info": {
   "codemirror_mode": {
    "name": "ipython",
    "version": 3
   },
   "file_extension": ".py",
   "mimetype": "text/x-python",
   "name": "python",
   "nbconvert_exporter": "python",
   "pygments_lexer": "ipython3",
   "version": "3.11.1"
  }
 },
 "nbformat": 4,
 "nbformat_minor": 5
}
