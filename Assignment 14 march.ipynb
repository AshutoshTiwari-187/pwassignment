{
 "cells": [
  {
   "cell_type": "code",
   "execution_count": 3,
   "id": "d525c9e6-7500-4bb6-be29-0adf2203e89f",
   "metadata": {},
   "outputs": [
    {
     "name": "stdout",
     "output_type": "stream",
     "text": [
      "F-value: 4.0\n",
      "p-value: 0.10400000000000002\n"
     ]
    },
    {
     "data": {
      "text/plain": [
       "''"
      ]
     },
     "execution_count": 3,
     "metadata": {},
     "output_type": "execute_result"
    }
   ],
   "source": [
    "#Q1. Write a Python function that takes in two arrays of data and calculates the F-value for a variance ratio test. The function should return the F-value and the corresponding p-value for the test.\n",
    "import numpy as np\n",
    "from scipy.stats import f\n",
    "\n",
    "def variance_ratio_test(data1, data2):\n",
    "    \"\"\"\n",
    "    Perform a variance ratio test on two arrays of data.\n",
    "\n",
    "    Parameters:\n",
    "    data1 (array-like): First array of data.\n",
    "    data2 (array-like): Second array of data.\n",
    "\n",
    "    Returns:\n",
    "    f_value (float): The F-value for the variance ratio test.\n",
    "    p_value (float): The corresponding p-value for the test.\n",
    "    \"\"\"\n",
    "\n",
    "    # Calculate variances\n",
    "    var1 = np.var(data1, ddof=1)  # ddof=1 for unbiased estimate\n",
    "    var2 = np.var(data2, ddof=1)\n",
    "\n",
    "    # Ensure var1 >= var2 for the F-test\n",
    "    if var1 < var2:\n",
    "        var1, var2 = var2, var1\n",
    "        data1, data2 = data2, data1\n",
    "\n",
    "    # Calculate F-value and p-value\n",
    "    f_value = var1 / var2\n",
    "    df1 = len(data1) - 1\n",
    "    df2 = len(data2) - 1\n",
    "    p_value = f.sf(f_value, df1, df2)\n",
    "\n",
    "    return f_value, p_value\n",
    "\n",
    "# Example usage:\n",
    "data1 = [1, 2, 3, 4, 5]\n",
    "data2 = [2, 4, 6, 8, 10]\n",
    "f_value, p_value = variance_ratio_test(data1, data2)\n",
    "print(\"F-value:\", f_value)\n",
    "print(\"p-value:\", p_value)\n",
    "\"\""
   ]
  },
  {
   "cell_type": "code",
   "execution_count": 4,
   "id": "b93787db-0173-46c8-bd7f-e2852b8983ed",
   "metadata": {},
   "outputs": [
    {
     "name": "stdout",
     "output_type": "stream",
     "text": [
      "Critical F-value: 4.765048283888203\n"
     ]
    }
   ],
   "source": [
    "#Q2. Given a significance level of 0.05 and the degrees of freedom for the numerator and denominator of an F-distribution, write a Python function that returns the critical F-value for a two-tailed test.\n",
    "from scipy.stats import f\n",
    "\n",
    "def critical_f_value(significance_level, df_num, df_den):\n",
    "    \"\"\"\n",
    "    Calculate the critical F-value for a two-tailed test.\n",
    "\n",
    "    Parameters:\n",
    "    significance_level (float): The significance level (alpha) of the test.\n",
    "    df_num (int): Degrees of freedom for the numerator.\n",
    "    df_den (int): Degrees of freedom for the denominator.\n",
    "\n",
    "    Returns:\n",
    "    critical_f (float): The critical F-value for the two-tailed test.\n",
    "    \"\"\"\n",
    "\n",
    "    # Calculate the critical F-value\n",
    "    alpha = 1 - significance_level / 2  # Two-tailed test\n",
    "    critical_f = f.ppf(alpha, df_num, df_den)\n",
    "\n",
    "    return critical_f\n",
    "\n",
    "# Example usage:\n",
    "significance_level = 0.05\n",
    "df_num = 2  # Degrees of freedom for the numerator\n",
    "df_den = 15  # Degrees of freedom for the denominator\n",
    "\n",
    "critical_f = critical_f_value(significance_level, df_num, df_den)\n",
    "print(\"Critical F-value:\", critical_f)\n"
   ]
  },
  {
   "cell_type": "code",
   "execution_count": 5,
   "id": "c030453e-25ce-45cf-abdc-e6d463dcf6d8",
   "metadata": {},
   "outputs": [
    {
     "name": "stdout",
     "output_type": "stream",
     "text": [
      "F-value: 2.371177811755986\n",
      "Degrees of freedom (numerator): 99\n",
      "Degrees of freedom (denominator): 99\n",
      "p-value: 1.2175075719410837e-05\n"
     ]
    }
   ],
   "source": [
    "#Q3. Write a Python program that generates random samples from two normal distributions with knownvariances and uses an F-test to determine if the variances are equal. The program should output the F-\n",
    "#value, degrees of freedom, and p-value for the test.\n",
    "import numpy as np\n",
    "from scipy.stats import f\n",
    "\n",
    "def f_test_normal_distributions(data1, data2):\n",
    "    \"\"\"\n",
    "    Perform an F-test to compare the variances of two normal distributions.\n",
    "\n",
    "    Parameters:\n",
    "    data1 (array-like): Random sample from the first normal distribution.\n",
    "    data2 (array-like): Random sample from the second normal distribution.\n",
    "\n",
    "    Returns:\n",
    "    f_value (float): The F-value for the F-test.\n",
    "    df1 (int): Degrees of freedom for the numerator.\n",
    "    df2 (int): Degrees of freedom for the denominator.\n",
    "    p_value (float): The p-value for the F-test.\n",
    "    \"\"\"\n",
    "\n",
    "    # Calculate variances\n",
    "    var1 = np.var(data1, ddof=1)  # ddof=1 for unbiased estimate\n",
    "    var2 = np.var(data2, ddof=1)\n",
    "\n",
    "    # Ensure var1 >= var2 for the F-test\n",
    "    if var1 < var2:\n",
    "        var1, var2 = var2, var1\n",
    "        data1, data2 = data2, data1\n",
    "\n",
    "    # Calculate F-value and p-value\n",
    "    f_value = var1 / var2\n",
    "    df1 = len(data1) - 1\n",
    "    df2 = len(data2) - 1\n",
    "    p_value = f.sf(f_value, df1, df2)\n",
    "\n",
    "    return f_value, df1, df2, p_value\n",
    "\n",
    "# Generate random samples from two normal distributions\n",
    "np.random.seed(0)  # For reproducibility\n",
    "data1 = np.random.normal(loc=0, scale=1, size=100)\n",
    "data2 = np.random.normal(loc=0, scale=1.5, size=100)\n",
    "\n",
    "# Perform F-test\n",
    "f_value, df1, df2, p_value = f_test_normal_distributions(data1, data2)\n",
    "\n",
    "# Output results\n",
    "print(\"F-value:\", f_value)\n",
    "print(\"Degrees of freedom (numerator):\", df1)\n",
    "print(\"Degrees of freedom (denominator):\", df2)\n",
    "print(\"p-value:\", p_value)\n"
   ]
  },
  {
   "cell_type": "code",
   "execution_count": 8,
   "id": "fde3bbe0-c937-42ca-9cf4-48baeefa763e",
   "metadata": {},
   "outputs": [
    {
     "name": "stdout",
     "output_type": "stream",
     "text": [
      "F-statistic: 1.5\n",
      "Critical F-value: 3.473699051085809\n",
      "Fail to reject the null hypothesis: Variances are not significantly different.\n"
     ]
    }
   ],
   "source": [
    "#Q4.The variances of two populations are known to be 10 and 15. A sample of 12 observations is taken from each population. Conduct an F-test at the 5% significance level to determine if the variances are significantly different.\n",
    "from scipy.stats import f\n",
    "\n",
    "# Calculate F-statistic\n",
    "larger_variance = 15\n",
    "smaller_variance = 10\n",
    "f_statistic = larger_variance / smaller_variance\n",
    "\n",
    "# Degrees of freedom\n",
    "df1 = 11\n",
    "df2 = 11\n",
    "\n",
    "# Calculate critical F-value\n",
    "alpha = 0.05\n",
    "critical_f = f.ppf(1 - alpha / 2, df1, df2)\n",
    "\n",
    "# Print results\n",
    "print(\"F-statistic:\", f_statistic)\n",
    "print(\"Critical F-value:\", critical_f)\n",
    "\n",
    "# Compare with critical F-value\n",
    "if f_statistic > critical_f:\n",
    "    print(\"Reject the null hypothesis: Variances are significantly different.\")\n",
    "else:\n",
    "    print(\"Fail to reject the null hypothesis: Variances are not significantly different.\")\n"
   ]
  },
  {
   "cell_type": "code",
   "execution_count": 9,
   "id": "1323b023-0ef8-4fb9-9989-bc782d970e35",
   "metadata": {},
   "outputs": [
    {
     "name": "stdout",
     "output_type": "stream",
     "text": [
      "Fail to reject the null hypothesis: The claim is justified.\n",
      "F-statistic: 1.2\n",
      "Critical F-value: 2.966741631292762\n"
     ]
    }
   ],
   "source": [
    "#Q5. A manufacturer claims that the variance of the diameter of a certain product is 0.005. A sample of 25 products is taken, and the sample variance is found to be 0.006. Conduct an F-test at the 1% significance level to determine if the claim is justified.\n",
    "from scipy.stats import f\n",
    "\n",
    "# Given data\n",
    "claimed_variance = 0.005\n",
    "sample_variance = 0.006\n",
    "sample_size = 25\n",
    "alpha = 0.01  # Significance level\n",
    "\n",
    "# Degrees of freedom\n",
    "df1 = sample_size - 1\n",
    "df2 = sample_size - 1\n",
    "\n",
    "# Calculate the F-statistic\n",
    "F = sample_variance / claimed_variance\n",
    "\n",
    "# Calculate the critical F-value\n",
    "critical_F = f.ppf(1 - alpha / 2, df1, df2)\n",
    "\n",
    "# Determine whether to reject the null hypothesis\n",
    "if F > critical_F or F < 1 / critical_F:\n",
    "    print(\"Reject the null hypothesis: The claim is not justified.\")\n",
    "else:\n",
    "    print(\"Fail to reject the null hypothesis: The claim is justified.\")\n",
    "\n",
    "# Print results\n",
    "print(\"F-statistic:\", F)\n",
    "print(\"Critical F-value:\", critical_F)\n"
   ]
  },
  {
   "cell_type": "code",
   "execution_count": 10,
   "id": "7a9fa79c-faeb-4f6a-b5b8-b91d39dc51c9",
   "metadata": {},
   "outputs": [
    {
     "name": "stdout",
     "output_type": "stream",
     "text": [
      "Mean: 1.25\n",
      "Variance: 1.3541666666666667\n"
     ]
    }
   ],
   "source": [
    "#Q6. Write a Python function that takes in the degrees of freedom for the numerator and denominator of an F-distribution and calculates the mean and variance of the distribution. The function should return the mean and variance as a tuple.\n",
    "def f_distribution_mean_variance(df1, df2):\n",
    "    \"\"\"\n",
    "    Calculate the mean and variance of an F-distribution.\n",
    "\n",
    "    Parameters:\n",
    "    df1 (int): Degrees of freedom for the numerator.\n",
    "    df2 (int): Degrees of freedom for the denominator.\n",
    "\n",
    "    Returns:\n",
    "    mean (float): Mean of the F-distribution.\n",
    "    variance (float): Variance of the F-distribution.\n",
    "    \"\"\"\n",
    "\n",
    "    # Calculate mean\n",
    "    mean = df2 / (df2 - 2)\n",
    "\n",
    "    # Calculate variance\n",
    "    variance = (2 * (df2**2) * (df1 + df2 - 2)) / (df1 * (df2 - 2)**2 * (df2 - 4))\n",
    "\n",
    "    return mean, variance\n",
    "\n",
    "# Example usage:\n",
    "df1 = 5\n",
    "df2 = 10\n",
    "mean, variance = f_distribution_mean_variance(df1, df2)\n",
    "print(\"Mean:\", mean)\n",
    "print(\"Variance:\", variance)\n"
   ]
  },
  {
   "cell_type": "code",
   "execution_count": 11,
   "id": "964876db-e83b-41f6-b9dc-a0d2c455ae78",
   "metadata": {},
   "outputs": [
    {
     "name": "stdout",
     "output_type": "stream",
     "text": [
      "Fail to reject the null hypothesis: The variances are not significantly different.\n",
      "F-statistic: 1.25\n",
      "Critical F-value: 2.6457907352338195\n"
     ]
    }
   ],
   "source": [
    "#Q7. A random sample of 10 measurements is taken from a normal population with unknown variance. The sample variance is found to be 25. Another random sample of 15 measurements is taken from another\n",
    "#normal population with unknown variance, and the sample variance is found to be 20. Conduct an F-test at the 10% significance level to determine if the variances are significantly different.\n",
    "from scipy.stats import f\n",
    "\n",
    "# Given data\n",
    "sample_var1 = 25\n",
    "sample_var2 = 20\n",
    "alpha = 0.10  # Significance level\n",
    "\n",
    "# Degrees of freedom\n",
    "df1 = 10 - 1\n",
    "df2 = 15 - 1\n",
    "\n",
    "# Calculate the F-statistic\n",
    "F = sample_var1 / sample_var2\n",
    "\n",
    "# Calculate the critical F-value\n",
    "critical_F = f.ppf(1 - alpha / 2, df1, df2)\n",
    "\n",
    "# Determine whether to reject the null hypothesis\n",
    "if F > critical_F or F < 1 / critical_F:\n",
    "    print(\"Reject the null hypothesis: The variances are significantly different.\")\n",
    "else:\n",
    "    print(\"Fail to reject the null hypothesis: The variances are not significantly different.\")\n",
    "\n",
    "# Print results\n",
    "print(\"F-statistic:\", F)\n",
    "print(\"Critical F-value:\", critical_F)\n"
   ]
  },
  {
   "cell_type": "code",
   "execution_count": 12,
   "id": "b1a84c3a-ca1e-4d4e-a886-41114e103b31",
   "metadata": {},
   "outputs": [
    {
     "name": "stdout",
     "output_type": "stream",
     "text": [
      "Fail to reject the null hypothesis: The variances are not significantly different.\n",
      "F-statistic: 1.4551907719609585\n",
      "Critical F-value: 6.977701858535566\n"
     ]
    }
   ],
   "source": [
    "#Q8. The following data represent the waiting times in minutes at two different restaurants on a Saturday night: Restaurant A: 24, 25, 28, 23, 22, 20, 27; Restaurant B: 31, 33, 35, 30, 32, 36. Conduct an F-test at the 5% significance level to determine if the variances are significantly different.\n",
    "from scipy.stats import f\n",
    "\n",
    "# Data\n",
    "waiting_times_A = [24, 25, 28, 23, 22, 20, 27]\n",
    "waiting_times_B = [31, 33, 35, 30, 32, 36]\n",
    "\n",
    "# Calculate sample variances\n",
    "variance_A = sum((x - sum(waiting_times_A) / len(waiting_times_A))**2 for x in waiting_times_A) / (len(waiting_times_A) - 1)\n",
    "variance_B = sum((x - sum(waiting_times_B) / len(waiting_times_B))**2 for x in waiting_times_B) / (len(waiting_times_B) - 1)\n",
    "\n",
    "# Calculate F-statistic\n",
    "F = variance_A / variance_B\n",
    "\n",
    "# Degrees of freedom\n",
    "df1 = len(waiting_times_A) - 1\n",
    "df2 = len(waiting_times_B) - 1\n",
    "\n",
    "# Significance level\n",
    "alpha = 0.05\n",
    "\n",
    "# Calculate critical F-value\n",
    "critical_F = f.ppf(1 - alpha / 2, df1, df2)\n",
    "\n",
    "# Determine whether to reject the null hypothesis\n",
    "if F > critical_F or F < 1 / critical_F:\n",
    "    print(\"Reject the null hypothesis: The variances are significantly different.\")\n",
    "else:\n",
    "    print(\"Fail to reject the null hypothesis: The variances are not significantly different.\")\n",
    "\n",
    "# Print results\n",
    "print(\"F-statistic:\", F)\n",
    "print(\"Critical F-value:\", critical_F)\n"
   ]
  },
  {
   "cell_type": "code",
   "execution_count": 13,
   "id": "a9571ee0-d64c-4052-99c7-b7cd796d656a",
   "metadata": {},
   "outputs": [
    {
     "name": "stdout",
     "output_type": "stream",
     "text": [
      "Fail to reject the null hypothesis: The variances are not significantly different.\n",
      "F-statistic: 1.9442622950819672\n",
      "Critical F-value: 14.939605459912219\n"
     ]
    }
   ],
   "source": [
    "#Q9. The following data represent the test scores of two groups of students: Group A: 80, 85, 90, 92, 87, 83; Group B: 75, 78, 82, 79, 81, 84. Conduct an F-test at the 1% significance level to determine if the variances are significantly different.\n",
    "from scipy.stats import f\n",
    "\n",
    "# Data\n",
    "group_A_scores = [80, 85, 90, 92, 87, 83]\n",
    "group_B_scores = [75, 78, 82, 79, 81, 84]\n",
    "\n",
    "# Calculate sample variances\n",
    "variance_A = sum((x - sum(group_A_scores) / len(group_A_scores))**2 for x in group_A_scores) / (len(group_A_scores) - 1)\n",
    "variance_B = sum((x - sum(group_B_scores) / len(group_B_scores))**2 for x in group_B_scores) / (len(group_B_scores) - 1)\n",
    "\n",
    "# Calculate F-statistic\n",
    "F = variance_A / variance_B\n",
    "\n",
    "# Degrees of freedom\n",
    "df1 = len(group_A_scores) - 1\n",
    "df2 = len(group_B_scores) - 1\n",
    "\n",
    "# Significance level\n",
    "alpha = 0.01\n",
    "\n",
    "# Calculate critical F-value\n",
    "critical_F = f.ppf(1 - alpha / 2, df1, df2)\n",
    "\n",
    "# Determine whether to reject the null hypothesis\n",
    "if F > critical_F or F < 1 / critical_F:\n",
    "    print(\"Reject the null hypothesis: The variances are significantly different.\")\n",
    "else:\n",
    "    print(\"Fail to reject the null hypothesis: The variances are not significantly different.\")\n",
    "\n",
    "# Print results\n",
    "print(\"F-statistic:\", F)\n",
    "print(\"Critical F-value:\", critical_F)\n"
   ]
  },
  {
   "cell_type": "code",
   "execution_count": null,
   "id": "1ada89c0-f20f-4d9b-bcad-01f8b8be7f78",
   "metadata": {},
   "outputs": [],
   "source": []
  }
 ],
 "metadata": {
  "kernelspec": {
   "display_name": "Python 3 (ipykernel)",
   "language": "python",
   "name": "python3"
  },
  "language_info": {
   "codemirror_mode": {
    "name": "ipython",
    "version": 3
   },
   "file_extension": ".py",
   "mimetype": "text/x-python",
   "name": "python",
   "nbconvert_exporter": "python",
   "pygments_lexer": "ipython3",
   "version": "3.12.1"
  }
 },
 "nbformat": 4,
 "nbformat_minor": 5
}
