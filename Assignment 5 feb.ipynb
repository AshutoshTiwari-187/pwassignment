{
 "cells": [
  {
   "cell_type": "code",
   "execution_count": 4,
   "id": "d124ce76",
   "metadata": {},
   "outputs": [],
   "source": [
    "#Question no-1\n",
    "#Classes are user defined data types that act as the blueprint for individual objects, attributes and methods.\n",
    "#Objects are instances of a class created with specifically defined data.\n",
    "#Class                            Object\n",
    "#Example: Car.Example: Jaguar, BMW, Tesla"
   ]
  },
  {
   "cell_type": "code",
   "execution_count": 6,
   "id": "ba558749",
   "metadata": {},
   "outputs": [],
   "source": [
    "#Question no-2\n",
    "# These four pillars are Inheritance, Polymorphism, Encapsulation and Abstraction"
   ]
  },
  {
   "cell_type": "code",
   "execution_count": 7,
   "id": "c2d0ea67",
   "metadata": {},
   "outputs": [],
   "source": [
    "#Question no-3\n",
    "#The __init__ method is the Python equivalent of the C++ constructor in an object oriented approach. \n",
    "#The __init__ function is called every time an object is created from a class.\n",
    "#The __init__ method lets the class initialize the objects attributes and serves no other purpose. It is only used within classes"
   ]
  },
  {
   "cell_type": "code",
   "execution_count": 8,
   "id": "e42747e4",
   "metadata": {},
   "outputs": [],
   "source": [
    "#Question no-4\n",
    "#Using the “self” we can access the attributes and methods of the class in python"
   ]
  },
  {
   "cell_type": "code",
   "execution_count": 9,
   "id": "dfe20ff2",
   "metadata": {},
   "outputs": [],
   "source": [
    "#Question no-5\n",
    "#Inheritance is a mechanism in which one class acquires the property of another class. ex= a child inherits the traits of his parents"
   ]
  },
  {
   "cell_type": "code",
   "execution_count": null,
   "id": "030c49e8",
   "metadata": {},
   "outputs": [],
   "source": []
  },
  {
   "cell_type": "code",
   "execution_count": null,
   "id": "3f192fa6",
   "metadata": {},
   "outputs": [],
   "source": []
  },
  {
   "cell_type": "code",
   "execution_count": null,
   "id": "10c30298",
   "metadata": {},
   "outputs": [],
   "source": []
  },
  {
   "cell_type": "code",
   "execution_count": null,
   "id": "97022c56",
   "metadata": {},
   "outputs": [],
   "source": []
  },
  {
   "cell_type": "code",
   "execution_count": null,
   "id": "a763a813",
   "metadata": {},
   "outputs": [],
   "source": []
  }
 ],
 "metadata": {
  "kernelspec": {
   "display_name": "Python 3 (ipykernel)",
   "language": "python",
   "name": "python3"
  },
  "language_info": {
   "codemirror_mode": {
    "name": "ipython",
    "version": 3
   },
   "file_extension": ".py",
   "mimetype": "text/x-python",
   "name": "python",
   "nbconvert_exporter": "python",
   "pygments_lexer": "ipython3",
   "version": "3.11.1"
  }
 },
 "nbformat": 4,
 "nbformat_minor": 5
}
